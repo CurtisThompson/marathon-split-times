{
 "cells": [
  {
   "cell_type": "code",
   "execution_count": 1,
   "id": "89c3991c",
   "metadata": {},
   "outputs": [],
   "source": [
    "import sys\n",
    "sys.path.insert(0, 'C:/Users/ctche/Documents/GitHub/marathon-split-times/src/')\n",
    "from split_time_predictor import SplitTimePredictor"
   ]
  },
  {
   "cell_type": "code",
   "execution_count": 2,
   "id": "d865ce18",
   "metadata": {},
   "outputs": [],
   "source": [
    "stp = SplitTimePredictor()"
   ]
  },
  {
   "cell_type": "code",
   "execution_count": 10,
   "id": "491ea4ce",
   "metadata": {},
   "outputs": [
    {
     "data": {
      "text/plain": [
       "'02:00:15'"
      ]
     },
     "execution_count": 10,
     "metadata": {},
     "output_type": "execute_result"
    }
   ],
   "source": [
    "stp.predict_finishing_time(['14:10', '14:10', '14:12', '14:13', '14:12', '14:10', '14:12', '14:30'])"
   ]
  }
 ],
 "metadata": {
  "kernelspec": {
   "display_name": "Python 3 (ipykernel)",
   "language": "python",
   "name": "python3"
  },
  "language_info": {
   "codemirror_mode": {
    "name": "ipython",
    "version": 3
   },
   "file_extension": ".py",
   "mimetype": "text/x-python",
   "name": "python",
   "nbconvert_exporter": "python",
   "pygments_lexer": "ipython3",
   "version": "3.7.6"
  }
 },
 "nbformat": 4,
 "nbformat_minor": 5
}
