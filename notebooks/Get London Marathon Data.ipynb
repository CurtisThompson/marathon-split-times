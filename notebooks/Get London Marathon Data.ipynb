{
 "cells": [
  {
   "cell_type": "code",
   "execution_count": 1,
   "id": "89f3d3a1",
   "metadata": {},
   "outputs": [],
   "source": [
    "import numpy as np\n",
    "import pandas as pd\n",
    "import requests\n",
    "from bs4 import BeautifulSoup"
   ]
  },
  {
   "cell_type": "code",
   "execution_count": 2,
   "id": "d814db5c",
   "metadata": {},
   "outputs": [],
   "source": [
    "def get_results_url(year, page):\n",
    "    url = 'https://results.virginmoneylondonmarathon.com/' + str(year) + '/?page=' + str(page) + '&event=MAS&num_results=1000&pid=search&pidp=start&search%5Bsex%5D=%25&search%5Bage_class%5D=%25&search%5Bnation%5D=%25&search_sort=name'\n",
    "    return url"
   ]
  },
  {
   "cell_type": "code",
   "execution_count": 3,
   "id": "137b4c67",
   "metadata": {},
   "outputs": [],
   "source": [
    "def get_results_page_soup(year, page):\n",
    "    url = get_results_url(year, page)\n",
    "    page = requests.get(url).content\n",
    "    return BeautifulSoup(page, 'html.parser')"
   ]
  },
  {
   "cell_type": "code",
   "execution_count": 4,
   "id": "c5e9ca40",
   "metadata": {},
   "outputs": [],
   "source": [
    "def get_runner_urls_from_soup(year, soup):\n",
    "    if year >= 2019:\n",
    "        runner_rows = soup.select('.list-group  li.list-group-item.row')[1:]\n",
    "    else:\n",
    "        runner_rows = soup.select('div.cbox-content table.list-table tbody tr')\n",
    "    \n",
    "    urls = []\n",
    "    for row in runner_rows:\n",
    "        try:\n",
    "            if year >= 2019:\n",
    "                href = row.select('h4.list-field.type-fullname a')[0]['href']\n",
    "            else:\n",
    "                href = row.select('td a')[0]['href']\n",
    "            urls.append('https://results.virginmoneylondonmarathon.com/' + str(year) + '/' + href)\n",
    "        except:\n",
    "            pass\n",
    "    return urls"
   ]
  },
  {
   "cell_type": "code",
   "execution_count": null,
   "id": "d9b93b7e",
   "metadata": {},
   "outputs": [],
   "source": [
    "soup = get_results_page_soup(2018, 1)"
   ]
  },
  {
   "cell_type": "code",
   "execution_count": null,
   "id": "b23d0013",
   "metadata": {},
   "outputs": [],
   "source": [
    "runner_urls = get_runner_urls_from_soup(2018, soup)"
   ]
  },
  {
   "cell_type": "code",
   "execution_count": 5,
   "id": "439243b0",
   "metadata": {},
   "outputs": [],
   "source": [
    "def get_runner_times_from_url(runner_url):\n",
    "    try:\n",
    "        page = requests.get(runner_url).content\n",
    "        soup2 = BeautifulSoup(page, 'html.parser')\n",
    "        split_table = str(soup2.select('div.detail-box.box-splits table')[0])\n",
    "        df_split = pd.read_html(split_table)[0]\n",
    "        return df_split.Diff.values\n",
    "    except:\n",
    "        print('Failed Runner', runner_url)\n",
    "        return ['-', '-', '-', '-', '-', '-', '-', '-', '-', '-']"
   ]
  },
  {
   "cell_type": "code",
   "execution_count": null,
   "id": "3066e5aa",
   "metadata": {},
   "outputs": [],
   "source": [
    "all_split_times = []\n",
    "for url in runner_urls[:5]:\n",
    "    all_split_times.append(get_runner_times_from_url(url))\n",
    "all_split_times = pd.DataFrame(all_split_times, columns=['5', '10', '15', '20', 'Half', '25', '30', '35', '40', 'Finish'])\n",
    "all_split_times"
   ]
  },
  {
   "cell_type": "code",
   "execution_count": 6,
   "id": "2a33b45a",
   "metadata": {},
   "outputs": [],
   "source": [
    "def how_many_pages_for_year(year):\n",
    "    page_soup = get_results_page_soup(year, 1)\n",
    "    if year >= 2019:\n",
    "        pages = page_soup.select('ul.pagination li.hidden-xs.hidden-sm a')[-1].text\n",
    "    else:\n",
    "        pages = page_soup.select('div.pages a')[-2].text\n",
    "    return int(pages)"
   ]
  },
  {
   "cell_type": "code",
   "execution_count": 7,
   "id": "8489dd6d",
   "metadata": {},
   "outputs": [],
   "source": [
    "def get_splits_one_page(year, page):\n",
    "    soup = get_results_page_soup(year, page)\n",
    "    runner_urls = get_runner_urls_from_soup(year, soup)\n",
    "    \n",
    "    all_split_times = []\n",
    "    for url in runner_urls:\n",
    "        all_split_times.append(get_runner_times_from_url(url))\n",
    "    all_split_times = pd.DataFrame(all_split_times, columns=['5', '10', '15', '20', 'Half', '25', '30', '35', '40', 'Finish'])\n",
    "    return all_split_times"
   ]
  },
  {
   "cell_type": "code",
   "execution_count": 8,
   "id": "0e00752a",
   "metadata": {},
   "outputs": [],
   "source": [
    "def get_splits_for_year(year):\n",
    "    num_pages = how_many_pages_for_year(year)\n",
    "    \n",
    "    all_split_times = []\n",
    "    for page in range(1, num_pages+1):\n",
    "        soup = get_results_page_soup(year, page)\n",
    "        runner_urls = get_runner_urls_from_soup(year, soup)\n",
    "        \n",
    "        for url in runner_urls:\n",
    "            all_split_times.append(get_runner_times_from_url(url))\n",
    "\n",
    "    all_split_times = pd.DataFrame(all_split_times, columns=['5', '10', '15', '20', 'Half', '25', '30', '35', '40', 'Finish'])\n",
    "    return all_split_times"
   ]
  },
  {
   "cell_type": "code",
   "execution_count": 9,
   "id": "2462b14a",
   "metadata": {
    "scrolled": true
   },
   "outputs": [],
   "source": [
    "#splits_2014 = get_splits_for_year(2014)"
   ]
  },
  {
   "cell_type": "code",
   "execution_count": 23,
   "id": "a04fb7fe",
   "metadata": {},
   "outputs": [
    {
     "name": "stdout",
     "output_type": "stream",
     "text": [
      "Failed Runner https://results.virginmoneylondonmarathon.com/2019/?content=detail&fpid=search&pid=search&idp=9999990F5ECC9700002C4C49&lang=EN_CAP&event=MAS&num_results=1000&page=6&pidp=start&search%5Bsex%5D=%25&search%5Bage_class%5D=%25&search%5Bnation%5D=%25&search_sort=name&search_event=MAS\n",
      "Failed Runner https://results.virginmoneylondonmarathon.com/2019/?content=detail&fpid=search&pid=search&idp=9999990F5ECC9700002CA491&lang=EN_CAP&event=MAS&num_results=1000&page=6&pidp=start&search%5Bsex%5D=%25&search%5Bage_class%5D=%25&search%5Bnation%5D=%25&search_sort=name&search_event=MAS\n",
      "Failed Runner https://results.virginmoneylondonmarathon.com/2019/?content=detail&fpid=search&pid=search&idp=9999990F5ECC9700002C6DFE&lang=EN_CAP&event=MAS&num_results=1000&page=6&pidp=start&search%5Bsex%5D=%25&search%5Bage_class%5D=%25&search%5Bnation%5D=%25&search_sort=name&search_event=MAS\n",
      "Failed Runner https://results.virginmoneylondonmarathon.com/2019/?content=detail&fpid=search&pid=search&idp=9999990F5ECC9700002C0E44&lang=EN_CAP&event=MAS&num_results=1000&page=6&pidp=start&search%5Bsex%5D=%25&search%5Bage_class%5D=%25&search%5Bnation%5D=%25&search_sort=name&search_event=MAS\n",
      "Failed Runner https://results.virginmoneylondonmarathon.com/2019/?content=detail&fpid=search&pid=search&idp=9999990F5ECC9700002C2EDE&lang=EN_CAP&event=MAS&num_results=1000&page=6&pidp=start&search%5Bsex%5D=%25&search%5Bage_class%5D=%25&search%5Bnation%5D=%25&search_sort=name&search_event=MAS\n",
      "Failed Runner https://results.virginmoneylondonmarathon.com/2019/?content=detail&fpid=search&pid=search&idp=9999990F5ECC9700002C19B7&lang=EN_CAP&event=MAS&num_results=1000&page=6&pidp=start&search%5Bsex%5D=%25&search%5Bage_class%5D=%25&search%5Bnation%5D=%25&search_sort=name&search_event=MAS\n",
      "Failed Runner https://results.virginmoneylondonmarathon.com/2019/?content=detail&fpid=search&pid=search&idp=9999990F5ECC9700002C4374&lang=EN_CAP&event=MAS&num_results=1000&page=6&pidp=start&search%5Bsex%5D=%25&search%5Bage_class%5D=%25&search%5Bnation%5D=%25&search_sort=name&search_event=MAS\n",
      "Failed Runner https://results.virginmoneylondonmarathon.com/2019/?content=detail&fpid=search&pid=search&idp=9999990F5ECC9700002CC35A&lang=EN_CAP&event=MAS&num_results=1000&page=6&pidp=start&search%5Bsex%5D=%25&search%5Bage_class%5D=%25&search%5Bnation%5D=%25&search_sort=name&search_event=MAS\n",
      "Failed Runner https://results.virginmoneylondonmarathon.com/2019/?content=detail&fpid=search&pid=search&idp=9999990F5ECC9700002C2C9C&lang=EN_CAP&event=MAS&num_results=1000&page=6&pidp=start&search%5Bsex%5D=%25&search%5Bage_class%5D=%25&search%5Bnation%5D=%25&search_sort=name&search_event=MAS\n",
      "Failed Runner https://results.virginmoneylondonmarathon.com/2019/?content=detail&fpid=search&pid=search&idp=9999990F5ECC9700002C378F&lang=EN_CAP&event=MAS&num_results=1000&page=6&pidp=start&search%5Bsex%5D=%25&search%5Bage_class%5D=%25&search%5Bnation%5D=%25&search_sort=name&search_event=MAS\n",
      "Failed Runner https://results.virginmoneylondonmarathon.com/2019/?content=detail&fpid=search&pid=search&idp=9999990F5ECC9700002C1906&lang=EN_CAP&event=MAS&num_results=1000&page=6&pidp=start&search%5Bsex%5D=%25&search%5Bage_class%5D=%25&search%5Bnation%5D=%25&search_sort=name&search_event=MAS\n",
      "Failed Runner https://results.virginmoneylondonmarathon.com/2019/?content=detail&fpid=search&pid=search&idp=9999990F5ECC9700002C53E7&lang=EN_CAP&event=MAS&num_results=1000&page=6&pidp=start&search%5Bsex%5D=%25&search%5Bage_class%5D=%25&search%5Bnation%5D=%25&search_sort=name&search_event=MAS\n",
      "Failed Runner https://results.virginmoneylondonmarathon.com/2019/?content=detail&fpid=search&pid=search&idp=9999990F5ECC9700002C6E47&lang=EN_CAP&event=MAS&num_results=1000&page=6&pidp=start&search%5Bsex%5D=%25&search%5Bage_class%5D=%25&search%5Bnation%5D=%25&search_sort=name&search_event=MAS\n",
      "Failed Runner https://results.virginmoneylondonmarathon.com/2019/?content=detail&fpid=search&pid=search&idp=9999990F5ECC9700002CA3EB&lang=EN_CAP&event=MAS&num_results=1000&page=6&pidp=start&search%5Bsex%5D=%25&search%5Bage_class%5D=%25&search%5Bnation%5D=%25&search_sort=name&search_event=MAS\n",
      "Failed Runner https://results.virginmoneylondonmarathon.com/2019/?content=detail&fpid=search&pid=search&idp=9999990F5ECC9700002C5150&lang=EN_CAP&event=MAS&num_results=1000&page=6&pidp=start&search%5Bsex%5D=%25&search%5Bage_class%5D=%25&search%5Bnation%5D=%25&search_sort=name&search_event=MAS\n",
      "Failed Runner https://results.virginmoneylondonmarathon.com/2019/?content=detail&fpid=search&pid=search&idp=9999990F5ECC9700002C3761&lang=EN_CAP&event=MAS&num_results=1000&page=6&pidp=start&search%5Bsex%5D=%25&search%5Bage_class%5D=%25&search%5Bnation%5D=%25&search_sort=name&search_event=MAS\n",
      "Failed Runner https://results.virginmoneylondonmarathon.com/2019/?content=detail&fpid=search&pid=search&idp=9999990F5ECC9700002C5DDF&lang=EN_CAP&event=MAS&num_results=1000&page=6&pidp=start&search%5Bsex%5D=%25&search%5Bage_class%5D=%25&search%5Bnation%5D=%25&search_sort=name&search_event=MAS\n",
      "Failed Runner https://results.virginmoneylondonmarathon.com/2019/?content=detail&fpid=search&pid=search&idp=9999990F5ECC9700002C3628&lang=EN_CAP&event=MAS&num_results=1000&page=6&pidp=start&search%5Bsex%5D=%25&search%5Bage_class%5D=%25&search%5Bnation%5D=%25&search_sort=name&search_event=MAS\n",
      "Failed Runner https://results.virginmoneylondonmarathon.com/2019/?content=detail&fpid=search&pid=search&idp=9999990F5ECC9700002CA9C0&lang=EN_CAP&event=MAS&num_results=1000&page=6&pidp=start&search%5Bsex%5D=%25&search%5Bage_class%5D=%25&search%5Bnation%5D=%25&search_sort=name&search_event=MAS\n",
      "Failed Runner https://results.virginmoneylondonmarathon.com/2019/?content=detail&fpid=search&pid=search&idp=9999990F5ECC9700002C23BB&lang=EN_CAP&event=MAS&num_results=1000&page=6&pidp=start&search%5Bsex%5D=%25&search%5Bage_class%5D=%25&search%5Bnation%5D=%25&search_sort=name&search_event=MAS\n",
      "Failed Runner https://results.virginmoneylondonmarathon.com/2019/?content=detail&fpid=search&pid=search&idp=9999990F5ECC9700002CC5A9&lang=EN_CAP&event=MAS&num_results=1000&page=6&pidp=start&search%5Bsex%5D=%25&search%5Bage_class%5D=%25&search%5Bnation%5D=%25&search_sort=name&search_event=MAS\n",
      "Failed Runner https://results.virginmoneylondonmarathon.com/2019/?content=detail&fpid=search&pid=search&idp=9999990F5ECC9700002C8ABD&lang=EN_CAP&event=MAS&num_results=1000&page=6&pidp=start&search%5Bsex%5D=%25&search%5Bage_class%5D=%25&search%5Bnation%5D=%25&search_sort=name&search_event=MAS\n",
      "Failed Runner https://results.virginmoneylondonmarathon.com/2019/?content=detail&fpid=search&pid=search&idp=9999990F5ECC9700002C2B4E&lang=EN_CAP&event=MAS&num_results=1000&page=6&pidp=start&search%5Bsex%5D=%25&search%5Bage_class%5D=%25&search%5Bnation%5D=%25&search_sort=name&search_event=MAS\n",
      "Failed Runner https://results.virginmoneylondonmarathon.com/2019/?content=detail&fpid=search&pid=search&idp=9999990F5ECC9700002CAD24&lang=EN_CAP&event=MAS&num_results=1000&page=6&pidp=start&search%5Bsex%5D=%25&search%5Bage_class%5D=%25&search%5Bnation%5D=%25&search_sort=name&search_event=MAS\n",
      "Failed Runner https://results.virginmoneylondonmarathon.com/2019/?content=detail&fpid=search&pid=search&idp=9999990F5ECC9700002CAFC3&lang=EN_CAP&event=MAS&num_results=1000&page=6&pidp=start&search%5Bsex%5D=%25&search%5Bage_class%5D=%25&search%5Bnation%5D=%25&search_sort=name&search_event=MAS\n",
      "Failed Runner https://results.virginmoneylondonmarathon.com/2019/?content=detail&fpid=search&pid=search&idp=9999990F5ECC9700002C3F31&lang=EN_CAP&event=MAS&num_results=1000&page=6&pidp=start&search%5Bsex%5D=%25&search%5Bage_class%5D=%25&search%5Bnation%5D=%25&search_sort=name&search_event=MAS\n",
      "Failed Runner https://results.virginmoneylondonmarathon.com/2019/?content=detail&fpid=search&pid=search&idp=9999990F5ECC9700002C9306&lang=EN_CAP&event=MAS&num_results=1000&page=6&pidp=start&search%5Bsex%5D=%25&search%5Bage_class%5D=%25&search%5Bnation%5D=%25&search_sort=name&search_event=MAS\n",
      "Failed Runner https://results.virginmoneylondonmarathon.com/2019/?content=detail&fpid=search&pid=search&idp=9999990F5ECC9700002C63B8&lang=EN_CAP&event=MAS&num_results=1000&page=6&pidp=start&search%5Bsex%5D=%25&search%5Bage_class%5D=%25&search%5Bnation%5D=%25&search_sort=name&search_event=MAS\n"
     ]
    },
    {
     "name": "stdout",
     "output_type": "stream",
     "text": [
      "Failed Runner https://results.virginmoneylondonmarathon.com/2019/?content=detail&fpid=search&pid=search&idp=9999990F5ECC9700002CB7CE&lang=EN_CAP&event=MAS&num_results=1000&page=6&pidp=start&search%5Bsex%5D=%25&search%5Bage_class%5D=%25&search%5Bnation%5D=%25&search_sort=name&search_event=MAS\n",
      "Failed Runner https://results.virginmoneylondonmarathon.com/2019/?content=detail&fpid=search&pid=search&idp=9999990F5ECC9700002C7E83&lang=EN_CAP&event=MAS&num_results=1000&page=6&pidp=start&search%5Bsex%5D=%25&search%5Bage_class%5D=%25&search%5Bnation%5D=%25&search_sort=name&search_event=MAS\n",
      "Failed Runner https://results.virginmoneylondonmarathon.com/2019/?content=detail&fpid=search&pid=search&idp=9999990F5ECC9700002C4ABE&lang=EN_CAP&event=MAS&num_results=1000&page=6&pidp=start&search%5Bsex%5D=%25&search%5Bage_class%5D=%25&search%5Bnation%5D=%25&search_sort=name&search_event=MAS\n",
      "Failed Runner https://results.virginmoneylondonmarathon.com/2019/?content=detail&fpid=search&pid=search&idp=9999990F5ECC9700002C39E2&lang=EN_CAP&event=MAS&num_results=1000&page=6&pidp=start&search%5Bsex%5D=%25&search%5Bage_class%5D=%25&search%5Bnation%5D=%25&search_sort=name&search_event=MAS\n",
      "Failed Runner https://results.virginmoneylondonmarathon.com/2019/?content=detail&fpid=search&pid=search&idp=9999990F5ECC9700002CB726&lang=EN_CAP&event=MAS&num_results=1000&page=6&pidp=start&search%5Bsex%5D=%25&search%5Bage_class%5D=%25&search%5Bnation%5D=%25&search_sort=name&search_event=MAS\n",
      "Failed Runner https://results.virginmoneylondonmarathon.com/2019/?content=detail&fpid=search&pid=search&idp=9999990F5ECC9700002CB5C4&lang=EN_CAP&event=MAS&num_results=1000&page=6&pidp=start&search%5Bsex%5D=%25&search%5Bage_class%5D=%25&search%5Bnation%5D=%25&search_sort=name&search_event=MAS\n",
      "Failed Runner https://results.virginmoneylondonmarathon.com/2019/?content=detail&fpid=search&pid=search&idp=9999990F5ECC9700002C9F69&lang=EN_CAP&event=MAS&num_results=1000&page=6&pidp=start&search%5Bsex%5D=%25&search%5Bage_class%5D=%25&search%5Bnation%5D=%25&search_sort=name&search_event=MAS\n",
      "Failed Runner https://results.virginmoneylondonmarathon.com/2019/?content=detail&fpid=search&pid=search&idp=9999990F5ECC9700002C802A&lang=EN_CAP&event=MAS&num_results=1000&page=6&pidp=start&search%5Bsex%5D=%25&search%5Bage_class%5D=%25&search%5Bnation%5D=%25&search_sort=name&search_event=MAS\n",
      "Failed Runner https://results.virginmoneylondonmarathon.com/2019/?content=detail&fpid=search&pid=search&idp=9999990F5ECC9700002C1117&lang=EN_CAP&event=MAS&num_results=1000&page=6&pidp=start&search%5Bsex%5D=%25&search%5Bage_class%5D=%25&search%5Bnation%5D=%25&search_sort=name&search_event=MAS\n",
      "Failed Runner https://results.virginmoneylondonmarathon.com/2019/?content=detail&fpid=search&pid=search&idp=9999990F5ECC9700002C744A&lang=EN_CAP&event=MAS&num_results=1000&page=6&pidp=start&search%5Bsex%5D=%25&search%5Bage_class%5D=%25&search%5Bnation%5D=%25&search_sort=name&search_event=MAS\n",
      "Failed Runner https://results.virginmoneylondonmarathon.com/2019/?content=detail&fpid=search&pid=search&idp=9999990F5ECC9700002C1DF3&lang=EN_CAP&event=MAS&num_results=1000&page=6&pidp=start&search%5Bsex%5D=%25&search%5Bage_class%5D=%25&search%5Bnation%5D=%25&search_sort=name&search_event=MAS\n",
      "Failed Runner https://results.virginmoneylondonmarathon.com/2019/?content=detail&fpid=search&pid=search&idp=9999990F5ECC9700002C7BFE&lang=EN_CAP&event=MAS&num_results=1000&page=6&pidp=start&search%5Bsex%5D=%25&search%5Bage_class%5D=%25&search%5Bnation%5D=%25&search_sort=name&search_event=MAS\n",
      "Failed Runner https://results.virginmoneylondonmarathon.com/2019/?content=detail&fpid=search&pid=search&idp=9999990F5ECC9700002C8471&lang=EN_CAP&event=MAS&num_results=1000&page=6&pidp=start&search%5Bsex%5D=%25&search%5Bage_class%5D=%25&search%5Bnation%5D=%25&search_sort=name&search_event=MAS\n",
      "Failed Runner https://results.virginmoneylondonmarathon.com/2019/?content=detail&fpid=search&pid=search&idp=9999990F5ECC9700002C6F19&lang=EN_CAP&event=MAS&num_results=1000&page=6&pidp=start&search%5Bsex%5D=%25&search%5Bage_class%5D=%25&search%5Bnation%5D=%25&search_sort=name&search_event=MAS\n",
      "Failed Runner https://results.virginmoneylondonmarathon.com/2019/?content=detail&fpid=search&pid=search&idp=9999990F5ECC9700002C7A34&lang=EN_CAP&event=MAS&num_results=1000&page=6&pidp=start&search%5Bsex%5D=%25&search%5Bage_class%5D=%25&search%5Bnation%5D=%25&search_sort=name&search_event=MAS\n",
      "Failed Runner https://results.virginmoneylondonmarathon.com/2019/?content=detail&fpid=search&pid=search&idp=9999990F5ECC9700002CA6BC&lang=EN_CAP&event=MAS&num_results=1000&page=6&pidp=start&search%5Bsex%5D=%25&search%5Bage_class%5D=%25&search%5Bnation%5D=%25&search_sort=name&search_event=MAS\n",
      "Failed Runner https://results.virginmoneylondonmarathon.com/2019/?content=detail&fpid=search&pid=search&idp=9999990F5ECC9700002C1EDD&lang=EN_CAP&event=MAS&num_results=1000&page=6&pidp=start&search%5Bsex%5D=%25&search%5Bage_class%5D=%25&search%5Bnation%5D=%25&search_sort=name&search_event=MAS\n",
      "Failed Runner https://results.virginmoneylondonmarathon.com/2019/?content=detail&fpid=search&pid=search&idp=9999990F5ECC9700002CA73F&lang=EN_CAP&event=MAS&num_results=1000&page=6&pidp=start&search%5Bsex%5D=%25&search%5Bage_class%5D=%25&search%5Bnation%5D=%25&search_sort=name&search_event=MAS\n",
      "Failed Runner https://results.virginmoneylondonmarathon.com/2019/?content=detail&fpid=search&pid=search&idp=9999990F5ECC9700002C3B01&lang=EN_CAP&event=MAS&num_results=1000&page=6&pidp=start&search%5Bsex%5D=%25&search%5Bage_class%5D=%25&search%5Bnation%5D=%25&search_sort=name&search_event=MAS\n",
      "Failed Runner https://results.virginmoneylondonmarathon.com/2019/?content=detail&fpid=search&pid=search&idp=9999990F5ECC9700002C12F7&lang=EN_CAP&event=MAS&num_results=1000&page=6&pidp=start&search%5Bsex%5D=%25&search%5Bage_class%5D=%25&search%5Bnation%5D=%25&search_sort=name&search_event=MAS\n",
      "Failed Runner https://results.virginmoneylondonmarathon.com/2019/?content=detail&fpid=search&pid=search&idp=9999990F5ECC9700002CBF6E&lang=EN_CAP&event=MAS&num_results=1000&page=6&pidp=start&search%5Bsex%5D=%25&search%5Bage_class%5D=%25&search%5Bnation%5D=%25&search_sort=name&search_event=MAS\n",
      "Failed Runner https://results.virginmoneylondonmarathon.com/2019/?content=detail&fpid=search&pid=search&idp=9999990F5ECC9700002CBD54&lang=EN_CAP&event=MAS&num_results=1000&page=6&pidp=start&search%5Bsex%5D=%25&search%5Bage_class%5D=%25&search%5Bnation%5D=%25&search_sort=name&search_event=MAS\n",
      "Failed Runner https://results.virginmoneylondonmarathon.com/2019/?content=detail&fpid=search&pid=search&idp=9999990F5ECC9700002C802B&lang=EN_CAP&event=MAS&num_results=1000&page=6&pidp=start&search%5Bsex%5D=%25&search%5Bage_class%5D=%25&search%5Bnation%5D=%25&search_sort=name&search_event=MAS\n",
      "Failed Runner https://results.virginmoneylondonmarathon.com/2019/?content=detail&fpid=search&pid=search&idp=9999990F5ECC9700002C441D&lang=EN_CAP&event=MAS&num_results=1000&page=6&pidp=start&search%5Bsex%5D=%25&search%5Bage_class%5D=%25&search%5Bnation%5D=%25&search_sort=name&search_event=MAS\n",
      "Failed Runner https://results.virginmoneylondonmarathon.com/2019/?content=detail&fpid=search&pid=search&idp=9999990F5ECC9700002CB038&lang=EN_CAP&event=MAS&num_results=1000&page=6&pidp=start&search%5Bsex%5D=%25&search%5Bage_class%5D=%25&search%5Bnation%5D=%25&search_sort=name&search_event=MAS\n",
      "Failed Runner https://results.virginmoneylondonmarathon.com/2019/?content=detail&fpid=search&pid=search&idp=9999990F5ECC9700002C63ED&lang=EN_CAP&event=MAS&num_results=1000&page=6&pidp=start&search%5Bsex%5D=%25&search%5Bage_class%5D=%25&search%5Bnation%5D=%25&search_sort=name&search_event=MAS\n",
      "Failed Runner https://results.virginmoneylondonmarathon.com/2019/?content=detail&fpid=search&pid=search&idp=9999990F5ECC9700002CA3D4&lang=EN_CAP&event=MAS&num_results=1000&page=6&pidp=start&search%5Bsex%5D=%25&search%5Bage_class%5D=%25&search%5Bnation%5D=%25&search_sort=name&search_event=MAS\n",
      "Failed Runner https://results.virginmoneylondonmarathon.com/2019/?content=detail&fpid=search&pid=search&idp=9999990F5ECC9700002C3063&lang=EN_CAP&event=MAS&num_results=1000&page=6&pidp=start&search%5Bsex%5D=%25&search%5Bage_class%5D=%25&search%5Bnation%5D=%25&search_sort=name&search_event=MAS\n"
     ]
    },
    {
     "name": "stdout",
     "output_type": "stream",
     "text": [
      "Failed Runner https://results.virginmoneylondonmarathon.com/2019/?content=detail&fpid=search&pid=search&idp=9999990F5ECC9700002C902A&lang=EN_CAP&event=MAS&num_results=1000&page=6&pidp=start&search%5Bsex%5D=%25&search%5Bage_class%5D=%25&search%5Bnation%5D=%25&search_sort=name&search_event=MAS\n",
      "Failed Runner https://results.virginmoneylondonmarathon.com/2019/?content=detail&fpid=search&pid=search&idp=9999990F5ECC9700002C1F28&lang=EN_CAP&event=MAS&num_results=1000&page=6&pidp=start&search%5Bsex%5D=%25&search%5Bage_class%5D=%25&search%5Bnation%5D=%25&search_sort=name&search_event=MAS\n",
      "Failed Runner https://results.virginmoneylondonmarathon.com/2019/?content=detail&fpid=search&pid=search&idp=9999990F5ECC9700002C9B3E&lang=EN_CAP&event=MAS&num_results=1000&page=6&pidp=start&search%5Bsex%5D=%25&search%5Bage_class%5D=%25&search%5Bnation%5D=%25&search_sort=name&search_event=MAS\n",
      "Failed Runner https://results.virginmoneylondonmarathon.com/2019/?content=detail&fpid=search&pid=search&idp=9999990F5ECC9700002C912E&lang=EN_CAP&event=MAS&num_results=1000&page=6&pidp=start&search%5Bsex%5D=%25&search%5Bage_class%5D=%25&search%5Bnation%5D=%25&search_sort=name&search_event=MAS\n",
      "Failed Runner https://results.virginmoneylondonmarathon.com/2019/?content=detail&fpid=search&pid=search&idp=9999990F5ECC9700002C8313&lang=EN_CAP&event=MAS&num_results=1000&page=6&pidp=start&search%5Bsex%5D=%25&search%5Bage_class%5D=%25&search%5Bnation%5D=%25&search_sort=name&search_event=MAS\n",
      "Failed Runner https://results.virginmoneylondonmarathon.com/2019/?content=detail&fpid=search&pid=search&idp=9999990F5ECC9700002C7A7C&lang=EN_CAP&event=MAS&num_results=1000&page=6&pidp=start&search%5Bsex%5D=%25&search%5Bage_class%5D=%25&search%5Bnation%5D=%25&search_sort=name&search_event=MAS\n",
      "Failed Runner https://results.virginmoneylondonmarathon.com/2019/?content=detail&fpid=search&pid=search&idp=9999990F5ECC9700002C8F6A&lang=EN_CAP&event=MAS&num_results=1000&page=6&pidp=start&search%5Bsex%5D=%25&search%5Bage_class%5D=%25&search%5Bnation%5D=%25&search_sort=name&search_event=MAS\n",
      "Failed Runner https://results.virginmoneylondonmarathon.com/2019/?content=detail&fpid=search&pid=search&idp=9999990F5ECC9700002C400D&lang=EN_CAP&event=MAS&num_results=1000&page=6&pidp=start&search%5Bsex%5D=%25&search%5Bage_class%5D=%25&search%5Bnation%5D=%25&search_sort=name&search_event=MAS\n",
      "Failed Runner https://results.virginmoneylondonmarathon.com/2019/?content=detail&fpid=search&pid=search&idp=9999990F5ECC9700002C36C8&lang=EN_CAP&event=MAS&num_results=1000&page=6&pidp=start&search%5Bsex%5D=%25&search%5Bage_class%5D=%25&search%5Bnation%5D=%25&search_sort=name&search_event=MAS\n",
      "Failed Runner https://results.virginmoneylondonmarathon.com/2019/?content=detail&fpid=search&pid=search&idp=9999990F5ECC9700002CAB27&lang=EN_CAP&event=MAS&num_results=1000&page=6&pidp=start&search%5Bsex%5D=%25&search%5Bage_class%5D=%25&search%5Bnation%5D=%25&search_sort=name&search_event=MAS\n",
      "Failed Runner https://results.virginmoneylondonmarathon.com/2019/?content=detail&fpid=search&pid=search&idp=9999990F5ECC9700002C8D9F&lang=EN_CAP&event=MAS&num_results=1000&page=6&pidp=start&search%5Bsex%5D=%25&search%5Bage_class%5D=%25&search%5Bnation%5D=%25&search_sort=name&search_event=MAS\n",
      "Failed Runner https://results.virginmoneylondonmarathon.com/2019/?content=detail&fpid=search&pid=search&idp=9999990F5ECC9700002C7AD1&lang=EN_CAP&event=MAS&num_results=1000&page=6&pidp=start&search%5Bsex%5D=%25&search%5Bage_class%5D=%25&search%5Bnation%5D=%25&search_sort=name&search_event=MAS\n",
      "Failed Runner https://results.virginmoneylondonmarathon.com/2019/?content=detail&fpid=search&pid=search&idp=9999990F5ECC9700002C55B3&lang=EN_CAP&event=MAS&num_results=1000&page=6&pidp=start&search%5Bsex%5D=%25&search%5Bage_class%5D=%25&search%5Bnation%5D=%25&search_sort=name&search_event=MAS\n",
      "Failed Runner https://results.virginmoneylondonmarathon.com/2019/?content=detail&fpid=search&pid=search&idp=9999990F5ECC9700002C2662&lang=EN_CAP&event=MAS&num_results=1000&page=6&pidp=start&search%5Bsex%5D=%25&search%5Bage_class%5D=%25&search%5Bnation%5D=%25&search_sort=name&search_event=MAS\n",
      "Failed Runner https://results.virginmoneylondonmarathon.com/2019/?content=detail&fpid=search&pid=search&idp=9999990F5ECC9700002C2DD8&lang=EN_CAP&event=MAS&num_results=1000&page=6&pidp=start&search%5Bsex%5D=%25&search%5Bage_class%5D=%25&search%5Bnation%5D=%25&search_sort=name&search_event=MAS\n",
      "Failed Runner https://results.virginmoneylondonmarathon.com/2019/?content=detail&fpid=search&pid=search&idp=9999990F5ECC9700002CCD25&lang=EN_CAP&event=MAS&num_results=1000&page=6&pidp=start&search%5Bsex%5D=%25&search%5Bage_class%5D=%25&search%5Bnation%5D=%25&search_sort=name&search_event=MAS\n",
      "Failed Runner https://results.virginmoneylondonmarathon.com/2019/?content=detail&fpid=search&pid=search&idp=9999990F5ECC9700002C7ABF&lang=EN_CAP&event=MAS&num_results=1000&page=6&pidp=start&search%5Bsex%5D=%25&search%5Bage_class%5D=%25&search%5Bnation%5D=%25&search_sort=name&search_event=MAS\n",
      "Failed Runner https://results.virginmoneylondonmarathon.com/2019/?content=detail&fpid=search&pid=search&idp=9999990F5ECC9700002CB4E4&lang=EN_CAP&event=MAS&num_results=1000&page=6&pidp=start&search%5Bsex%5D=%25&search%5Bage_class%5D=%25&search%5Bnation%5D=%25&search_sort=name&search_event=MAS\n",
      "Failed Runner https://results.virginmoneylondonmarathon.com/2019/?content=detail&fpid=search&pid=search&idp=9999990F5ECC9700002CAB6E&lang=EN_CAP&event=MAS&num_results=1000&page=6&pidp=start&search%5Bsex%5D=%25&search%5Bage_class%5D=%25&search%5Bnation%5D=%25&search_sort=name&search_event=MAS\n",
      "Failed Runner https://results.virginmoneylondonmarathon.com/2019/?content=detail&fpid=search&pid=search&idp=9999990F5ECC9700002CC1A1&lang=EN_CAP&event=MAS&num_results=1000&page=6&pidp=start&search%5Bsex%5D=%25&search%5Bage_class%5D=%25&search%5Bnation%5D=%25&search_sort=name&search_event=MAS\n",
      "Failed Runner https://results.virginmoneylondonmarathon.com/2019/?content=detail&fpid=search&pid=search&idp=9999990F5ECC9700002C5C7F&lang=EN_CAP&event=MAS&num_results=1000&page=6&pidp=start&search%5Bsex%5D=%25&search%5Bage_class%5D=%25&search%5Bnation%5D=%25&search_sort=name&search_event=MAS\n",
      "Failed Runner https://results.virginmoneylondonmarathon.com/2019/?content=detail&fpid=search&pid=search&idp=9999990F5ECC9700002C5860&lang=EN_CAP&event=MAS&num_results=1000&page=6&pidp=start&search%5Bsex%5D=%25&search%5Bage_class%5D=%25&search%5Bnation%5D=%25&search_sort=name&search_event=MAS\n",
      "Failed Runner https://results.virginmoneylondonmarathon.com/2019/?content=detail&fpid=search&pid=search&idp=9999990F5ECC9700002C562F&lang=EN_CAP&event=MAS&num_results=1000&page=6&pidp=start&search%5Bsex%5D=%25&search%5Bage_class%5D=%25&search%5Bnation%5D=%25&search_sort=name&search_event=MAS\n",
      "Failed Runner https://results.virginmoneylondonmarathon.com/2019/?content=detail&fpid=search&pid=search&idp=9999990F5ECC9700002C79DF&lang=EN_CAP&event=MAS&num_results=1000&page=6&pidp=start&search%5Bsex%5D=%25&search%5Bage_class%5D=%25&search%5Bnation%5D=%25&search_sort=name&search_event=MAS\n",
      "Failed Runner https://results.virginmoneylondonmarathon.com/2019/?content=detail&fpid=search&pid=search&idp=9999990F5ECC9700002C76B3&lang=EN_CAP&event=MAS&num_results=1000&page=6&pidp=start&search%5Bsex%5D=%25&search%5Bage_class%5D=%25&search%5Bnation%5D=%25&search_sort=name&search_event=MAS\n",
      "Failed Runner https://results.virginmoneylondonmarathon.com/2019/?content=detail&fpid=search&pid=search&idp=9999990F5ECC9700002C2F0C&lang=EN_CAP&event=MAS&num_results=1000&page=6&pidp=start&search%5Bsex%5D=%25&search%5Bage_class%5D=%25&search%5Bnation%5D=%25&search_sort=name&search_event=MAS\n",
      "Failed Runner https://results.virginmoneylondonmarathon.com/2019/?content=detail&fpid=search&pid=search&idp=9999990F5ECC9700002C5FEA&lang=EN_CAP&event=MAS&num_results=1000&page=6&pidp=start&search%5Bsex%5D=%25&search%5Bage_class%5D=%25&search%5Bnation%5D=%25&search_sort=name&search_event=MAS\n",
      "Failed Runner https://results.virginmoneylondonmarathon.com/2019/?content=detail&fpid=search&pid=search&idp=9999990F5ECC9700002C5EFA&lang=EN_CAP&event=MAS&num_results=1000&page=6&pidp=start&search%5Bsex%5D=%25&search%5Bage_class%5D=%25&search%5Bnation%5D=%25&search_sort=name&search_event=MAS\n"
     ]
    },
    {
     "name": "stdout",
     "output_type": "stream",
     "text": [
      "Failed Runner https://results.virginmoneylondonmarathon.com/2019/?content=detail&fpid=search&pid=search&idp=9999990F5ECC9700002C449C&lang=EN_CAP&event=MAS&num_results=1000&page=6&pidp=start&search%5Bsex%5D=%25&search%5Bage_class%5D=%25&search%5Bnation%5D=%25&search_sort=name&search_event=MAS\n",
      "Failed Runner https://results.virginmoneylondonmarathon.com/2019/?content=detail&fpid=search&pid=search&idp=9999990F5ECC9700002C455C&lang=EN_CAP&event=MAS&num_results=1000&page=6&pidp=start&search%5Bsex%5D=%25&search%5Bage_class%5D=%25&search%5Bnation%5D=%25&search_sort=name&search_event=MAS\n",
      "Failed Runner https://results.virginmoneylondonmarathon.com/2019/?content=detail&fpid=search&pid=search&idp=9999990F5ECC9700002C9EFA&lang=EN_CAP&event=MAS&num_results=1000&page=6&pidp=start&search%5Bsex%5D=%25&search%5Bage_class%5D=%25&search%5Bnation%5D=%25&search_sort=name&search_event=MAS\n",
      "Failed Runner https://results.virginmoneylondonmarathon.com/2019/?content=detail&fpid=search&pid=search&idp=9999990F5ECC9700002C1343&lang=EN_CAP&event=MAS&num_results=1000&page=6&pidp=start&search%5Bsex%5D=%25&search%5Bage_class%5D=%25&search%5Bnation%5D=%25&search_sort=name&search_event=MAS\n",
      "Failed Runner https://results.virginmoneylondonmarathon.com/2019/?content=detail&fpid=search&pid=search&idp=9999990F5ECC9700002C62A1&lang=EN_CAP&event=MAS&num_results=1000&page=6&pidp=start&search%5Bsex%5D=%25&search%5Bage_class%5D=%25&search%5Bnation%5D=%25&search_sort=name&search_event=MAS\n",
      "Failed Runner https://results.virginmoneylondonmarathon.com/2019/?content=detail&fpid=search&pid=search&idp=9999990F5ECC9700002C26BB&lang=EN_CAP&event=MAS&num_results=1000&page=6&pidp=start&search%5Bsex%5D=%25&search%5Bage_class%5D=%25&search%5Bnation%5D=%25&search_sort=name&search_event=MAS\n",
      "Failed Runner https://results.virginmoneylondonmarathon.com/2019/?content=detail&fpid=search&pid=search&idp=9999990F5ECC9700002C47E1&lang=EN_CAP&event=MAS&num_results=1000&page=6&pidp=start&search%5Bsex%5D=%25&search%5Bage_class%5D=%25&search%5Bnation%5D=%25&search_sort=name&search_event=MAS\n",
      "Failed Runner https://results.virginmoneylondonmarathon.com/2019/?content=detail&fpid=search&pid=search&idp=9999990F5ECC9700002C124F&lang=EN_CAP&event=MAS&num_results=1000&page=6&pidp=start&search%5Bsex%5D=%25&search%5Bage_class%5D=%25&search%5Bnation%5D=%25&search_sort=name&search_event=MAS\n",
      "Failed Runner https://results.virginmoneylondonmarathon.com/2019/?content=detail&fpid=search&pid=search&idp=9999990F5ECC9700002C62CD&lang=EN_CAP&event=MAS&num_results=1000&page=6&pidp=start&search%5Bsex%5D=%25&search%5Bage_class%5D=%25&search%5Bnation%5D=%25&search_sort=name&search_event=MAS\n",
      "Failed Runner https://results.virginmoneylondonmarathon.com/2019/?content=detail&fpid=search&pid=search&idp=9999990F5ECC9700002C797A&lang=EN_CAP&event=MAS&num_results=1000&page=6&pidp=start&search%5Bsex%5D=%25&search%5Bage_class%5D=%25&search%5Bnation%5D=%25&search_sort=name&search_event=MAS\n",
      "Failed Runner https://results.virginmoneylondonmarathon.com/2019/?content=detail&fpid=search&pid=search&idp=9999990F5ECC9700002C8344&lang=EN_CAP&event=MAS&num_results=1000&page=6&pidp=start&search%5Bsex%5D=%25&search%5Bage_class%5D=%25&search%5Bnation%5D=%25&search_sort=name&search_event=MAS\n",
      "Failed Runner https://results.virginmoneylondonmarathon.com/2019/?content=detail&fpid=search&pid=search&idp=9999990F5ECC9700002C1A17&lang=EN_CAP&event=MAS&num_results=1000&page=6&pidp=start&search%5Bsex%5D=%25&search%5Bage_class%5D=%25&search%5Bnation%5D=%25&search_sort=name&search_event=MAS\n",
      "Failed Runner https://results.virginmoneylondonmarathon.com/2019/?content=detail&fpid=search&pid=search&idp=9999990F5ECC9700002C4D09&lang=EN_CAP&event=MAS&num_results=1000&page=6&pidp=start&search%5Bsex%5D=%25&search%5Bage_class%5D=%25&search%5Bnation%5D=%25&search_sort=name&search_event=MAS\n",
      "Failed Runner https://results.virginmoneylondonmarathon.com/2019/?content=detail&fpid=search&pid=search&idp=9999990F5ECC9700002C75BF&lang=EN_CAP&event=MAS&num_results=1000&page=6&pidp=start&search%5Bsex%5D=%25&search%5Bage_class%5D=%25&search%5Bnation%5D=%25&search_sort=name&search_event=MAS\n",
      "Failed Runner https://results.virginmoneylondonmarathon.com/2019/?content=detail&fpid=search&pid=search&idp=9999990F5ECC9700002C4289&lang=EN_CAP&event=MAS&num_results=1000&page=6&pidp=start&search%5Bsex%5D=%25&search%5Bage_class%5D=%25&search%5Bnation%5D=%25&search_sort=name&search_event=MAS\n",
      "Failed Runner https://results.virginmoneylondonmarathon.com/2019/?content=detail&fpid=search&pid=search&idp=9999990F5ECC9700002CCB59&lang=EN_CAP&event=MAS&num_results=1000&page=6&pidp=start&search%5Bsex%5D=%25&search%5Bage_class%5D=%25&search%5Bnation%5D=%25&search_sort=name&search_event=MAS\n",
      "Failed Runner https://results.virginmoneylondonmarathon.com/2019/?content=detail&fpid=search&pid=search&idp=9999990F5ECC9700002CAF08&lang=EN_CAP&event=MAS&num_results=1000&page=6&pidp=start&search%5Bsex%5D=%25&search%5Bage_class%5D=%25&search%5Bnation%5D=%25&search_sort=name&search_event=MAS\n",
      "Failed Runner https://results.virginmoneylondonmarathon.com/2019/?content=detail&fpid=search&pid=search&idp=9999990F5ECC9700002C3B04&lang=EN_CAP&event=MAS&num_results=1000&page=6&pidp=start&search%5Bsex%5D=%25&search%5Bage_class%5D=%25&search%5Bnation%5D=%25&search_sort=name&search_event=MAS\n",
      "Failed Runner https://results.virginmoneylondonmarathon.com/2019/?content=detail&fpid=search&pid=search&idp=9999990F5ECC9700002C3AA2&lang=EN_CAP&event=MAS&num_results=1000&page=6&pidp=start&search%5Bsex%5D=%25&search%5Bage_class%5D=%25&search%5Bnation%5D=%25&search_sort=name&search_event=MAS\n",
      "Failed Runner https://results.virginmoneylondonmarathon.com/2019/?content=detail&fpid=search&pid=search&idp=9999990F5ECC9700002CA430&lang=EN_CAP&event=MAS&num_results=1000&page=6&pidp=start&search%5Bsex%5D=%25&search%5Bage_class%5D=%25&search%5Bnation%5D=%25&search_sort=name&search_event=MAS\n",
      "Failed Runner https://results.virginmoneylondonmarathon.com/2019/?content=detail&fpid=search&pid=search&idp=9999990F5ECC9700002C9683&lang=EN_CAP&event=MAS&num_results=1000&page=6&pidp=start&search%5Bsex%5D=%25&search%5Bage_class%5D=%25&search%5Bnation%5D=%25&search_sort=name&search_event=MAS\n",
      "Failed Runner https://results.virginmoneylondonmarathon.com/2019/?content=detail&fpid=search&pid=search&idp=9999990F5ECC9700002C761C&lang=EN_CAP&event=MAS&num_results=1000&page=6&pidp=start&search%5Bsex%5D=%25&search%5Bage_class%5D=%25&search%5Bnation%5D=%25&search_sort=name&search_event=MAS\n",
      "Failed Runner https://results.virginmoneylondonmarathon.com/2019/?content=detail&fpid=search&pid=search&idp=9999990F5ECC9700002C7408&lang=EN_CAP&event=MAS&num_results=1000&page=6&pidp=start&search%5Bsex%5D=%25&search%5Bage_class%5D=%25&search%5Bnation%5D=%25&search_sort=name&search_event=MAS\n",
      "Failed Runner https://results.virginmoneylondonmarathon.com/2019/?content=detail&fpid=search&pid=search&idp=9999990F5ECC9700002C9448&lang=EN_CAP&event=MAS&num_results=1000&page=6&pidp=start&search%5Bsex%5D=%25&search%5Bage_class%5D=%25&search%5Bnation%5D=%25&search_sort=name&search_event=MAS\n",
      "Failed Runner https://results.virginmoneylondonmarathon.com/2019/?content=detail&fpid=search&pid=search&idp=9999990F5ECC9700002C5ACF&lang=EN_CAP&event=MAS&num_results=1000&page=6&pidp=start&search%5Bsex%5D=%25&search%5Bage_class%5D=%25&search%5Bnation%5D=%25&search_sort=name&search_event=MAS\n",
      "Failed Runner https://results.virginmoneylondonmarathon.com/2019/?content=detail&fpid=search&pid=search&idp=9999990F5ECC9700002C2510&lang=EN_CAP&event=MAS&num_results=1000&page=6&pidp=start&search%5Bsex%5D=%25&search%5Bage_class%5D=%25&search%5Bnation%5D=%25&search_sort=name&search_event=MAS\n",
      "Failed Runner https://results.virginmoneylondonmarathon.com/2019/?content=detail&fpid=search&pid=search&idp=9999990F5ECC9700002C1467&lang=EN_CAP&event=MAS&num_results=1000&page=6&pidp=start&search%5Bsex%5D=%25&search%5Bage_class%5D=%25&search%5Bnation%5D=%25&search_sort=name&search_event=MAS\n",
      "Failed Runner https://results.virginmoneylondonmarathon.com/2019/?content=detail&fpid=search&pid=search&idp=9999990F5ECC9700002C19DA&lang=EN_CAP&event=MAS&num_results=1000&page=6&pidp=start&search%5Bsex%5D=%25&search%5Bage_class%5D=%25&search%5Bnation%5D=%25&search_sort=name&search_event=MAS\n"
     ]
    },
    {
     "name": "stdout",
     "output_type": "stream",
     "text": [
      "Failed Runner https://results.virginmoneylondonmarathon.com/2019/?content=detail&fpid=search&pid=search&idp=9999990F5ECC9700002CC63D&lang=EN_CAP&event=MAS&num_results=1000&page=6&pidp=start&search%5Bsex%5D=%25&search%5Bage_class%5D=%25&search%5Bnation%5D=%25&search_sort=name&search_event=MAS\n",
      "Failed Runner https://results.virginmoneylondonmarathon.com/2019/?content=detail&fpid=search&pid=search&idp=9999990F5ECC9700002C2624&lang=EN_CAP&event=MAS&num_results=1000&page=6&pidp=start&search%5Bsex%5D=%25&search%5Bage_class%5D=%25&search%5Bnation%5D=%25&search_sort=name&search_event=MAS\n",
      "Failed Runner https://results.virginmoneylondonmarathon.com/2019/?content=detail&fpid=search&pid=search&idp=9999990F5ECC9700002C4229&lang=EN_CAP&event=MAS&num_results=1000&page=6&pidp=start&search%5Bsex%5D=%25&search%5Bage_class%5D=%25&search%5Bnation%5D=%25&search_sort=name&search_event=MAS\n",
      "Failed Runner https://results.virginmoneylondonmarathon.com/2019/?content=detail&fpid=search&pid=search&idp=9999990F5ECC9700002C146A&lang=EN_CAP&event=MAS&num_results=1000&page=6&pidp=start&search%5Bsex%5D=%25&search%5Bage_class%5D=%25&search%5Bnation%5D=%25&search_sort=name&search_event=MAS\n",
      "Failed Runner https://results.virginmoneylondonmarathon.com/2019/?content=detail&fpid=search&pid=search&idp=9999990F5ECC9700002C78FF&lang=EN_CAP&event=MAS&num_results=1000&page=6&pidp=start&search%5Bsex%5D=%25&search%5Bage_class%5D=%25&search%5Bnation%5D=%25&search_sort=name&search_event=MAS\n",
      "Failed Runner https://results.virginmoneylondonmarathon.com/2019/?content=detail&fpid=search&pid=search&idp=9999990F5ECC9700002C6D9A&lang=EN_CAP&event=MAS&num_results=1000&page=6&pidp=start&search%5Bsex%5D=%25&search%5Bage_class%5D=%25&search%5Bnation%5D=%25&search_sort=name&search_event=MAS\n",
      "Failed Runner https://results.virginmoneylondonmarathon.com/2019/?content=detail&fpid=search&pid=search&idp=9999990F5ECC9700002C44D4&lang=EN_CAP&event=MAS&num_results=1000&page=6&pidp=start&search%5Bsex%5D=%25&search%5Bage_class%5D=%25&search%5Bnation%5D=%25&search_sort=name&search_event=MAS\n",
      "Failed Runner https://results.virginmoneylondonmarathon.com/2019/?content=detail&fpid=search&pid=search&idp=9999990F5ECC9700002C5A1C&lang=EN_CAP&event=MAS&num_results=1000&page=6&pidp=start&search%5Bsex%5D=%25&search%5Bage_class%5D=%25&search%5Bnation%5D=%25&search_sort=name&search_event=MAS\n",
      "Failed Runner https://results.virginmoneylondonmarathon.com/2019/?content=detail&fpid=search&pid=search&idp=9999990F5ECC9700002C6DC7&lang=EN_CAP&event=MAS&num_results=1000&page=6&pidp=start&search%5Bsex%5D=%25&search%5Bage_class%5D=%25&search%5Bnation%5D=%25&search_sort=name&search_event=MAS\n",
      "Failed Runner https://results.virginmoneylondonmarathon.com/2019/?content=detail&fpid=search&pid=search&idp=9999990F5ECC9700002CCD87&lang=EN_CAP&event=MAS&num_results=1000&page=6&pidp=start&search%5Bsex%5D=%25&search%5Bage_class%5D=%25&search%5Bnation%5D=%25&search_sort=name&search_event=MAS\n",
      "Failed Runner https://results.virginmoneylondonmarathon.com/2019/?content=detail&fpid=search&pid=search&idp=9999990F5ECC9700002C1F69&lang=EN_CAP&event=MAS&num_results=1000&page=6&pidp=start&search%5Bsex%5D=%25&search%5Bage_class%5D=%25&search%5Bnation%5D=%25&search_sort=name&search_event=MAS\n",
      "Failed Runner https://results.virginmoneylondonmarathon.com/2019/?content=detail&fpid=search&pid=search&idp=9999990F5ECC9700002CB035&lang=EN_CAP&event=MAS&num_results=1000&page=6&pidp=start&search%5Bsex%5D=%25&search%5Bage_class%5D=%25&search%5Bnation%5D=%25&search_sort=name&search_event=MAS\n",
      "Failed Runner https://results.virginmoneylondonmarathon.com/2019/?content=detail&fpid=search&pid=search&idp=9999990F5ECC9700002C8DDF&lang=EN_CAP&event=MAS&num_results=1000&page=6&pidp=start&search%5Bsex%5D=%25&search%5Bage_class%5D=%25&search%5Bnation%5D=%25&search_sort=name&search_event=MAS\n"
     ]
    }
   ],
   "source": [
    "df_2019_6 = get_splits_one_page(2019, 6)"
   ]
  },
  {
   "cell_type": "code",
   "execution_count": 24,
   "id": "54c41823",
   "metadata": {},
   "outputs": [],
   "source": [
    "df_2019_6.to_csv('../data/london_marathon_2019_6.csv', index=False)"
   ]
  }
 ],
 "metadata": {
  "kernelspec": {
   "display_name": "Python 3 (ipykernel)",
   "language": "python",
   "name": "python3"
  },
  "language_info": {
   "codemirror_mode": {
    "name": "ipython",
    "version": 3
   },
   "file_extension": ".py",
   "mimetype": "text/x-python",
   "name": "python",
   "nbconvert_exporter": "python",
   "pygments_lexer": "ipython3",
   "version": "3.7.6"
  }
 },
 "nbformat": 4,
 "nbformat_minor": 5
}
