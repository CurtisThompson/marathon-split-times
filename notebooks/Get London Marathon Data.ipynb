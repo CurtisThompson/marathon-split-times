{
 "cells": [
  {
   "cell_type": "code",
   "execution_count": 1,
   "id": "89f3d3a1",
   "metadata": {},
   "outputs": [],
   "source": [
    "import numpy as np\n",
    "import pandas as pd\n",
    "import requests\n",
    "from bs4 import BeautifulSoup"
   ]
  },
  {
   "cell_type": "code",
   "execution_count": 2,
   "id": "d814db5c",
   "metadata": {},
   "outputs": [],
   "source": [
    "def get_results_url(year, page):\n",
    "    url = 'https://results.virginmoneylondonmarathon.com/' + str(year) + '/?page=' + str(page) + '&event=MAS&num_results=1000&pid=search&pidp=start&search%5Bsex%5D=%25&search%5Bage_class%5D=%25&search%5Bnation%5D=%25&search_sort=name'\n",
    "    return url"
   ]
  },
  {
   "cell_type": "code",
   "execution_count": 3,
   "id": "137b4c67",
   "metadata": {},
   "outputs": [],
   "source": [
    "def get_results_page_soup(year, page):\n",
    "    url = get_results_url(year, page)\n",
    "    page = requests.get(url).content\n",
    "    return BeautifulSoup(page, 'html.parser')"
   ]
  },
  {
   "cell_type": "code",
   "execution_count": 4,
   "id": "c5e9ca40",
   "metadata": {},
   "outputs": [],
   "source": [
    "def get_runner_urls_from_soup(year, soup):\n",
    "    if year >= 2019:\n",
    "        runner_rows = soup.select('.list-group  li.list-group-item.row')[1:]\n",
    "    else:\n",
    "        runner_rows = soup.select('div.cbox-content table.list-table tbody tr')\n",
    "    \n",
    "    urls = []\n",
    "    for row in runner_rows:\n",
    "        try:\n",
    "            if year >= 2019:\n",
    "                href = row.select('h4.list-field.type-fullname a')[0]['href']\n",
    "            else:\n",
    "                href = row.select('td a')[0]['href']\n",
    "            urls.append('https://results.virginmoneylondonmarathon.com/' + str(year) + '/' + href)\n",
    "        except:\n",
    "            pass\n",
    "    return urls"
   ]
  },
  {
   "cell_type": "code",
   "execution_count": null,
   "id": "d9b93b7e",
   "metadata": {},
   "outputs": [],
   "source": [
    "soup = get_results_page_soup(2018, 1)"
   ]
  },
  {
   "cell_type": "code",
   "execution_count": null,
   "id": "b23d0013",
   "metadata": {},
   "outputs": [],
   "source": [
    "runner_urls = get_runner_urls_from_soup(2018, soup)"
   ]
  },
  {
   "cell_type": "code",
   "execution_count": 5,
   "id": "439243b0",
   "metadata": {},
   "outputs": [],
   "source": [
    "def get_runner_times_from_url(runner_url):\n",
    "    try:\n",
    "        page = requests.get(runner_url).content\n",
    "        soup2 = BeautifulSoup(page, 'html.parser')\n",
    "        split_table = str(soup2.select('div.detail-box.box-splits table')[0])\n",
    "        df_split = pd.read_html(split_table)[0]\n",
    "        return df_split.Diff.values\n",
    "    except:\n",
    "        print('Failed Runner', runner_url)\n",
    "        return ['-', '-', '-', '-', '-', '-', '-', '-', '-', '-']"
   ]
  },
  {
   "cell_type": "code",
   "execution_count": null,
   "id": "3066e5aa",
   "metadata": {},
   "outputs": [],
   "source": [
    "all_split_times = []\n",
    "for url in runner_urls[:5]:\n",
    "    all_split_times.append(get_runner_times_from_url(url))\n",
    "all_split_times = pd.DataFrame(all_split_times, columns=['5', '10', '15', '20', 'Half', '25', '30', '35', '40', 'Finish'])\n",
    "all_split_times"
   ]
  },
  {
   "cell_type": "code",
   "execution_count": 6,
   "id": "2a33b45a",
   "metadata": {},
   "outputs": [],
   "source": [
    "def how_many_pages_for_year(year):\n",
    "    page_soup = get_results_page_soup(year, 1)\n",
    "    if year >= 2019:\n",
    "        pages = page_soup.select('ul.pagination li.hidden-xs.hidden-sm a')[-1].text\n",
    "    else:\n",
    "        pages = page_soup.select('div.pages a')[-2].text\n",
    "    return int(pages)"
   ]
  },
  {
   "cell_type": "code",
   "execution_count": 7,
   "id": "8489dd6d",
   "metadata": {},
   "outputs": [],
   "source": [
    "def get_splits_one_page(year, page):\n",
    "    soup = get_results_page_soup(year, page)\n",
    "    runner_urls = get_runner_urls_from_soup(year, soup)\n",
    "    \n",
    "    all_split_times = []\n",
    "    for url in runner_urls:\n",
    "        all_split_times.append(get_runner_times_from_url(url))\n",
    "    all_split_times = pd.DataFrame(all_split_times, columns=['5', '10', '15', '20', 'Half', '25', '30', '35', '40', 'Finish'])\n",
    "    return all_split_times"
   ]
  },
  {
   "cell_type": "code",
   "execution_count": 8,
   "id": "0e00752a",
   "metadata": {},
   "outputs": [],
   "source": [
    "def get_splits_for_year(year):\n",
    "    num_pages = how_many_pages_for_year(year)\n",
    "    \n",
    "    all_split_times = []\n",
    "    for page in range(1, num_pages+1):\n",
    "        soup = get_results_page_soup(year, page)\n",
    "        runner_urls = get_runner_urls_from_soup(year, soup)\n",
    "        \n",
    "        for url in runner_urls:\n",
    "            all_split_times.append(get_runner_times_from_url(url))\n",
    "\n",
    "    all_split_times = pd.DataFrame(all_split_times, columns=['5', '10', '15', '20', 'Half', '25', '30', '35', '40', 'Finish'])\n",
    "    return all_split_times"
   ]
  },
  {
   "cell_type": "code",
   "execution_count": null,
   "id": "2462b14a",
   "metadata": {
    "scrolled": true
   },
   "outputs": [],
   "source": [
    "#splits_2014 = get_splits_for_year(2014)"
   ]
  },
  {
   "cell_type": "code",
   "execution_count": null,
   "id": "a04fb7fe",
   "metadata": {},
   "outputs": [],
   "source": [
    "df_2019_6 = get_splits_one_page(2019, 10)"
   ]
  },
  {
   "cell_type": "code",
   "execution_count": null,
   "id": "54c41823",
   "metadata": {},
   "outputs": [],
   "source": [
    "df_2019_6.to_csv('../data/london_marathon_2019_10.csv', index=False)"
   ]
  },
  {
   "cell_type": "code",
   "execution_count": 11,
   "id": "1bbc1f0b",
   "metadata": {},
   "outputs": [],
   "source": [
    "for i in range(1,47):\n",
    "    get_splits_one_page(2017, i).to_csv('../data/london_marathon_2017_'+str(i)+'.csv', index=False)"
   ]
  },
  {
   "cell_type": "code",
   "execution_count": 10,
   "id": "5b420794",
   "metadata": {},
   "outputs": [
    {
     "data": {
      "text/plain": [
       "46"
      ]
     },
     "execution_count": 10,
     "metadata": {},
     "output_type": "execute_result"
    }
   ],
   "source": [
    "how_many_pages_for_year(2017)"
   ]
  }
 ],
 "metadata": {
  "kernelspec": {
   "display_name": "Python 3 (ipykernel)",
   "language": "python",
   "name": "python3"
  },
  "language_info": {
   "codemirror_mode": {
    "name": "ipython",
    "version": 3
   },
   "file_extension": ".py",
   "mimetype": "text/x-python",
   "name": "python",
   "nbconvert_exporter": "python",
   "pygments_lexer": "ipython3",
   "version": "3.7.6"
  }
 },
 "nbformat": 4,
 "nbformat_minor": 5
}
