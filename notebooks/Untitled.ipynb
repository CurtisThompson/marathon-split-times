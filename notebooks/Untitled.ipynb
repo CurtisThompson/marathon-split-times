{
 "cells": [
  {
   "cell_type": "code",
   "execution_count": 1,
   "id": "cb6cc999",
   "metadata": {},
   "outputs": [],
   "source": [
    "import pandas as pd"
   ]
  },
  {
   "cell_type": "code",
   "execution_count": 5,
   "id": "0b8a3625",
   "metadata": {},
   "outputs": [],
   "source": [
    "data_files = ['../data/london_marathon_2018_'+str(x)+'.csv' for x in range(1, 49)]\n",
    "dfs = [pd.read_csv(f) for f in data_files]\n",
    "data = pd.concat(dfs)"
   ]
  },
  {
   "cell_type": "code",
   "execution_count": 6,
   "id": "0346358a",
   "metadata": {},
   "outputs": [],
   "source": [
    "data.to_csv('../data/london_marathon_2018.csv', index=False)"
   ]
  }
 ],
 "metadata": {
  "kernelspec": {
   "display_name": "Python 3 (ipykernel)",
   "language": "python",
   "name": "python3"
  },
  "language_info": {
   "codemirror_mode": {
    "name": "ipython",
    "version": 3
   },
   "file_extension": ".py",
   "mimetype": "text/x-python",
   "name": "python",
   "nbconvert_exporter": "python",
   "pygments_lexer": "ipython3",
   "version": "3.7.6"
  }
 },
 "nbformat": 4,
 "nbformat_minor": 5
}
