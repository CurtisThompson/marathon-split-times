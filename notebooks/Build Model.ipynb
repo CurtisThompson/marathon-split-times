{
 "cells": [
  {
   "cell_type": "code",
   "execution_count": 49,
   "id": "4b02360f",
   "metadata": {},
   "outputs": [],
   "source": [
    "import numpy as np\n",
    "import pandas as pd\n",
    "from sklearn.linear_model import LinearRegression\n",
    "from sklearn.neighbors import KNeighborsRegressor\n",
    "from sklearn.neural_network import MLPRegressor\n",
    "from sklearn.utils import shuffle\n",
    "from sklearn.metrics import mean_squared_error\n",
    "import pickle"
   ]
  },
  {
   "cell_type": "markdown",
   "id": "69ffb69d",
   "metadata": {},
   "source": [
    "# Import Data and Prepare"
   ]
  },
  {
   "cell_type": "code",
   "execution_count": 2,
   "id": "c649cdf3",
   "metadata": {},
   "outputs": [],
   "source": [
    "data_files = ['../data/london_marathon_2019_'+str(x)+'.csv' for x in range(1, 7)]\n",
    "dfs = [pd.read_csv(f) for f in data_files]\n",
    "data = pd.concat(dfs)\n",
    "data = shuffle(data, random_state=0).reset_index(drop=True)"
   ]
  },
  {
   "cell_type": "code",
   "execution_count": 3,
   "id": "974fc0c0",
   "metadata": {},
   "outputs": [],
   "source": [
    "def time_to_seconds(time):\n",
    "    if ':' in time:\n",
    "        time_parts = time.split(':')\n",
    "        seconds = int(time_parts[-1]) + (int(time_parts[-2]) * 60)\n",
    "        if len(time_parts) > 2:\n",
    "            seconds += int(time_parts[-3]) * 3600\n",
    "        return int(seconds)\n",
    "    else:\n",
    "        return np.nan"
   ]
  },
  {
   "cell_type": "code",
   "execution_count": 4,
   "id": "18c5105e",
   "metadata": {},
   "outputs": [],
   "source": [
    "def seconds_to_time(time):\n",
    "    hours = time // 3600\n",
    "    time -= hours*3600\n",
    "    hours = str(int(hours))\n",
    "    if len(hours) < 2:\n",
    "        hours = '0' + hours\n",
    "    \n",
    "    minutes = time // 60\n",
    "    time -= minutes*60\n",
    "    minutes = str(int(minutes))\n",
    "    if len(minutes) < 2:\n",
    "        minutes = '0' + minutes\n",
    "        \n",
    "    seconds = str(int(time))\n",
    "    if len(seconds) < 2:\n",
    "        seconds = '0' + seconds\n",
    "    \n",
    "    if hours != '00':\n",
    "        return hours + ':' + minutes + ':' + seconds\n",
    "    return minutes + ':' + seconds"
   ]
  },
  {
   "cell_type": "code",
   "execution_count": 5,
   "id": "8786d599",
   "metadata": {},
   "outputs": [],
   "source": [
    "for column in data.columns:\n",
    "    data[column] = data[column].apply(lambda x: time_to_seconds(x))"
   ]
  },
  {
   "cell_type": "markdown",
   "id": "703c84fc",
   "metadata": {},
   "source": [
    "## Remove Incomplete Rows"
   ]
  },
  {
   "cell_type": "code",
   "execution_count": 6,
   "id": "cea6e784",
   "metadata": {},
   "outputs": [],
   "source": [
    "data.dropna(axis=0, inplace=True)\n",
    "data.reset_index(drop=True, inplace=True)"
   ]
  },
  {
   "cell_type": "markdown",
   "id": "631f68ab",
   "metadata": {},
   "source": [
    "## Split Into X and Y"
   ]
  },
  {
   "cell_type": "code",
   "execution_count": 7,
   "id": "c11143aa",
   "metadata": {},
   "outputs": [],
   "source": [
    "X = data[['5', '10', '15', '20', '25', '30', '35']]\n",
    "y = data['40'] + data['Finish']"
   ]
  },
  {
   "cell_type": "code",
   "execution_count": 8,
   "id": "41c1b537",
   "metadata": {},
   "outputs": [],
   "source": [
    "X_train = X.loc[:4000]\n",
    "X_test = X.loc[4000:]\n",
    "y_train = y.loc[:4000]\n",
    "y_test = y.loc[4000:]"
   ]
  },
  {
   "cell_type": "markdown",
   "id": "6b3c1b81",
   "metadata": {},
   "source": [
    "# Build Model"
   ]
  },
  {
   "cell_type": "code",
   "execution_count": 62,
   "id": "1100b2fb",
   "metadata": {},
   "outputs": [],
   "source": [
    "def get_model():\n",
    "    #return KNeighborsRegressor(n_neighbors=17)\n",
    "    return MLPRegressor(solver='lbfgs', alpha=1e-5, hidden_layer_sizes=(15,5,), random_state=1, max_iter=1000)\n",
    "    #return LinearRegression()"
   ]
  },
  {
   "cell_type": "code",
   "execution_count": 10,
   "id": "d8be70a1",
   "metadata": {},
   "outputs": [],
   "source": [
    "def build_and_save_model(model, X, y, file_name='../models/test.pkl'):\n",
    "    size_80 = int(X.shape[0] * 0.8)\n",
    "    X_train = X.loc[:size_80]\n",
    "    X_test = X.loc[size_80:]\n",
    "    y_train = y.loc[:size_80]\n",
    "    y_test = y.loc[size_80:]\n",
    "    \n",
    "    model.fit(X_train, y_train)\n",
    "    \n",
    "    print(mean_squared_error(y_test, model.predict(X_test)))\n",
    "    \n",
    "    with open(file_name, 'wb') as f:\n",
    "        pickle.dump(model, f)\n",
    "    \n",
    "    return model"
   ]
  },
  {
   "cell_type": "markdown",
   "id": "14cb3a41",
   "metadata": {},
   "source": [
    "## After 5km"
   ]
  },
  {
   "cell_type": "code",
   "execution_count": 63,
   "id": "d07db4e1",
   "metadata": {},
   "outputs": [
    {
     "name": "stdout",
     "output_type": "stream",
     "text": [
      "1898901.2044839964\n"
     ]
    }
   ],
   "source": [
    "model = build_and_save_model(get_model(),\n",
    "                             data[['5']],\n",
    "                             data['10']+data['15']+data['20']+data['25']+data['30']+data['35']+data['40']+data['Finish'],\n",
    "                             file_name='../models/main_model_5.pkl')"
   ]
  },
  {
   "cell_type": "markdown",
   "id": "0efb5f63",
   "metadata": {},
   "source": [
    "## After 10km"
   ]
  },
  {
   "cell_type": "code",
   "execution_count": 64,
   "id": "f8ae01f5",
   "metadata": {},
   "outputs": [
    {
     "name": "stdout",
     "output_type": "stream",
     "text": [
      "1507424.5007138993\n"
     ]
    }
   ],
   "source": [
    "model = build_and_save_model(get_model(),\n",
    "                             data[['5', '10']],\n",
    "                             data['15']+data['20']+data['25']+data['30']+data['35']+data['40']+data['Finish'],\n",
    "                             file_name='../models/main_model_10.pkl')"
   ]
  },
  {
   "cell_type": "markdown",
   "id": "c126cdd0",
   "metadata": {},
   "source": [
    "## After 15km"
   ]
  },
  {
   "cell_type": "code",
   "execution_count": 65,
   "id": "90349bc9",
   "metadata": {},
   "outputs": [
    {
     "name": "stdout",
     "output_type": "stream",
     "text": [
      "975267.0622247908\n"
     ]
    }
   ],
   "source": [
    "model = build_and_save_model(get_model(),\n",
    "                             data[['5', '10', '15']],\n",
    "                             data['20']+data['25']+data['30']+data['35']+data['40']+data['Finish'],\n",
    "                             file_name='../models/main_model_15.pkl')"
   ]
  },
  {
   "cell_type": "markdown",
   "id": "5f335eb5",
   "metadata": {},
   "source": [
    "## After 20km"
   ]
  },
  {
   "cell_type": "code",
   "execution_count": 66,
   "id": "ee9c78df",
   "metadata": {},
   "outputs": [
    {
     "name": "stdout",
     "output_type": "stream",
     "text": [
      "732092.335038439\n"
     ]
    }
   ],
   "source": [
    "model = build_and_save_model(get_model(),\n",
    "                             data[['5', '10', '15', '20']],\n",
    "                             data['25']+data['30']+data['35']+data['40']+data['Finish'],\n",
    "                             file_name='../models/main_model_20.pkl')"
   ]
  },
  {
   "cell_type": "markdown",
   "id": "ce77176f",
   "metadata": {},
   "source": [
    "## After 25km"
   ]
  },
  {
   "cell_type": "code",
   "execution_count": 67,
   "id": "35874ab4",
   "metadata": {},
   "outputs": [
    {
     "name": "stdout",
     "output_type": "stream",
     "text": [
      "481364.94403586065\n"
     ]
    }
   ],
   "source": [
    "model = build_and_save_model(get_model(),\n",
    "                             data[['5', '10', '15', '20', '25']],\n",
    "                             data['30']+data['35']+data['40']+data['Finish'],\n",
    "                             file_name='../models/main_model_25.pkl')"
   ]
  },
  {
   "cell_type": "markdown",
   "id": "beb549e6",
   "metadata": {},
   "source": [
    "## After 30km"
   ]
  },
  {
   "cell_type": "code",
   "execution_count": 68,
   "id": "5a16a745",
   "metadata": {},
   "outputs": [
    {
     "name": "stdout",
     "output_type": "stream",
     "text": [
      "159085.81899650797\n"
     ]
    }
   ],
   "source": [
    "model = build_and_save_model(get_model(),\n",
    "                             data[['5', '10', '15', '20', '25', '30']],\n",
    "                             data['35']+data['40']+data['Finish'],\n",
    "                             file_name='../models/main_model_30.pkl')"
   ]
  },
  {
   "cell_type": "markdown",
   "id": "bbc8b86c",
   "metadata": {},
   "source": [
    "## After 35km"
   ]
  },
  {
   "cell_type": "code",
   "execution_count": 69,
   "id": "0526b78b",
   "metadata": {},
   "outputs": [
    {
     "name": "stdout",
     "output_type": "stream",
     "text": [
      "47929.12765610776\n"
     ]
    }
   ],
   "source": [
    "model = build_and_save_model(get_model(),\n",
    "                             data[['5', '10', '15', '20', '25', '30', '35']],\n",
    "                             data['40']+data['Finish'],\n",
    "                             file_name='../models/main_model_35.pkl')"
   ]
  },
  {
   "cell_type": "markdown",
   "id": "9b52f6e6",
   "metadata": {},
   "source": [
    "## After 40km"
   ]
  },
  {
   "cell_type": "code",
   "execution_count": 70,
   "id": "690379ee",
   "metadata": {},
   "outputs": [
    {
     "name": "stdout",
     "output_type": "stream",
     "text": [
      "10746.750166502066\n"
     ]
    }
   ],
   "source": [
    "model = build_and_save_model(get_model(),\n",
    "                             data[['5', '10', '15', '20', '25', '30', '35', '40']],\n",
    "                             data['Finish'],\n",
    "                             file_name='../models/main_model_40.pkl')"
   ]
  },
  {
   "cell_type": "code",
   "execution_count": 90,
   "id": "f19bd53b",
   "metadata": {},
   "outputs": [],
   "source": [
    "#model = LinearRegression().fit(X_train, y_train)\n",
    "#model = KNeighborsRegressor(n_neighbors=17).fit(X_train, y_train)"
   ]
  },
  {
   "cell_type": "markdown",
   "id": "b259cd28",
   "metadata": {},
   "source": [
    "## Performance?"
   ]
  },
  {
   "cell_type": "code",
   "execution_count": 19,
   "id": "59e27b93",
   "metadata": {},
   "outputs": [
    {
     "data": {
      "text/plain": [
       "51723.17451394709"
      ]
     },
     "execution_count": 19,
     "metadata": {},
     "output_type": "execute_result"
    }
   ],
   "source": [
    "#mean_squared_error(y_test, model.predict(X_test))"
   ]
  },
  {
   "cell_type": "markdown",
   "id": "fa01cf46",
   "metadata": {},
   "source": [
    "## Predictions"
   ]
  },
  {
   "cell_type": "code",
   "execution_count": 12,
   "id": "2e8be5ad",
   "metadata": {},
   "outputs": [],
   "source": [
    "def pred_linear_reg(splits, model=model):\n",
    "    splits = [time_to_seconds(x) for x in splits]\n",
    "    pred = model.predict([splits])[0]\n",
    "    return seconds_to_time(pred)"
   ]
  },
  {
   "cell_type": "code",
   "execution_count": 13,
   "id": "c268ddbb",
   "metadata": {},
   "outputs": [],
   "source": [
    "def total_time_from_splits(splits, model=model):\n",
    "    splits = [time_to_seconds(x) for x in splits]\n",
    "    pred = model.predict([splits])[0]\n",
    "    total_time = sum(splits) + pred\n",
    "    return seconds_to_time(total_time)"
   ]
  },
  {
   "cell_type": "code",
   "execution_count": 14,
   "id": "7ac3c119",
   "metadata": {},
   "outputs": [
    {
     "data": {
      "text/plain": [
       "'26:48'"
      ]
     },
     "execution_count": 14,
     "metadata": {},
     "output_type": "execute_result"
    }
   ],
   "source": [
    "pred_linear_reg(['14:10', '14:10', '14:14', '14:13', '14:12', '14:12', '14:12'])"
   ]
  },
  {
   "cell_type": "code",
   "execution_count": 15,
   "id": "fc27a0b2",
   "metadata": {},
   "outputs": [
    {
     "data": {
      "text/plain": [
       "'02:06:11'"
      ]
     },
     "execution_count": 15,
     "metadata": {},
     "output_type": "execute_result"
    }
   ],
   "source": [
    "total_time_from_splits(['14:10', '14:10', '14:14', '14:13', '14:12', '14:12', '14:12'])"
   ]
  },
  {
   "cell_type": "markdown",
   "id": "0ebff190",
   "metadata": {},
   "source": [
    "## Output To Pickle File"
   ]
  },
  {
   "cell_type": "code",
   "execution_count": 96,
   "id": "dd8ba269",
   "metadata": {},
   "outputs": [],
   "source": [
    "#with open('../models/knn_test.pkl', 'wb') as f:\n",
    "#    pickle.dump(model, f)"
   ]
  },
  {
   "cell_type": "markdown",
   "id": "228400a2",
   "metadata": {},
   "source": [
    "# Load Model and Make Predictions"
   ]
  },
  {
   "cell_type": "code",
   "execution_count": 97,
   "id": "62298ef2",
   "metadata": {},
   "outputs": [],
   "source": [
    "#with open('../models/knn_test.pkl', 'rb') as f:\n",
    "#    loaded_model = pickle.load(f)"
   ]
  },
  {
   "cell_type": "code",
   "execution_count": 17,
   "id": "29aaa163",
   "metadata": {},
   "outputs": [],
   "source": [
    "my_splits = ['28:02', '54:34', '01:20:58', '01:48:19', '01:54:12', '02:18:42', '02:54:03', '03:31:06', '04:06:54', '04:20:24']\n",
    "my_splits_short = my_splits[0:4] + my_splits[5:]\n",
    "\n",
    "def total_splits_to_split(splits):\n",
    "    seconds = [time_to_seconds(x) - time_to_seconds(splits[i-1]) if i > 0 else time_to_seconds(x) for i, x in enumerate(splits)]\n",
    "    splits = [seconds_to_time(x) for x in seconds]\n",
    "    return splits\n",
    "\n",
    "my_splits_split = total_splits_to_split(my_splits_short)"
   ]
  },
  {
   "cell_type": "code",
   "execution_count": 18,
   "id": "41c56fac",
   "metadata": {},
   "outputs": [
    {
     "data": {
      "text/plain": [
       "'04:25:17'"
      ]
     },
     "execution_count": 18,
     "metadata": {},
     "output_type": "execute_result"
    }
   ],
   "source": [
    "total_time_from_splits(my_splits_split[:7], model=model)"
   ]
  }
 ],
 "metadata": {
  "kernelspec": {
   "display_name": "Python 3 (ipykernel)",
   "language": "python",
   "name": "python3"
  },
  "language_info": {
   "codemirror_mode": {
    "name": "ipython",
    "version": 3
   },
   "file_extension": ".py",
   "mimetype": "text/x-python",
   "name": "python",
   "nbconvert_exporter": "python",
   "pygments_lexer": "ipython3",
   "version": "3.7.6"
  }
 },
 "nbformat": 4,
 "nbformat_minor": 5
}
