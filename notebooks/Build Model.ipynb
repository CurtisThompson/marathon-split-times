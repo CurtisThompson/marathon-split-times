{
 "cells": [
  {
   "cell_type": "code",
   "execution_count": 26,
   "id": "4b02360f",
   "metadata": {},
   "outputs": [],
   "source": [
    "import numpy as np\n",
    "import pandas as pd\n",
    "from sklearn.linear_model import LinearRegression"
   ]
  },
  {
   "cell_type": "code",
   "execution_count": 3,
   "id": "c649cdf3",
   "metadata": {},
   "outputs": [],
   "source": [
    "data_files = ['../data/london_marathon_2019_'+str(x)+'.csv' for x in range(1, 7)]\n",
    "dfs = [pd.read_csv(f) for f in data_files]\n",
    "data = pd.concat(dfs)"
   ]
  },
  {
   "cell_type": "code",
   "execution_count": 11,
   "id": "974fc0c0",
   "metadata": {},
   "outputs": [],
   "source": [
    "def time_to_seconds(time):\n",
    "    if ':' in time:\n",
    "        time_parts = time.split(':')\n",
    "        seconds = int(time_parts[-1]) + (int(time_parts[-2]) * 60)\n",
    "        if len(time_parts) > 2:\n",
    "            seconds += int(time_parts[-3]) * 3600\n",
    "        return seconds\n",
    "    else:\n",
    "        return np.nan"
   ]
  },
  {
   "cell_type": "code",
   "execution_count": 51,
   "id": "18c5105e",
   "metadata": {},
   "outputs": [],
   "source": [
    "def seconds_to_time(time):\n",
    "    hours = time // 3600\n",
    "    time -= hours*3600\n",
    "    hours = str(int(hours))\n",
    "    if len(hours) < 2:\n",
    "        hours = '0' + hours\n",
    "    \n",
    "    minutes = time // 60\n",
    "    time -= minutes*60\n",
    "    minutes = str(int(minutes))\n",
    "    if len(minutes) < 2:\n",
    "        minutes = '0' + minutes\n",
    "        \n",
    "    seconds = str(int(time))\n",
    "    if len(seconds) < 2:\n",
    "        seconds = '0' + seconds\n",
    "    \n",
    "    if hours != '00':\n",
    "        return hours + ':' + minutes + ':' + seconds\n",
    "    return minutes + ':' + seconds"
   ]
  },
  {
   "cell_type": "code",
   "execution_count": 19,
   "id": "8786d599",
   "metadata": {},
   "outputs": [],
   "source": [
    "for column in data.columns:\n",
    "    data[column] = data[column].apply(lambda x: time_to_seconds(x))"
   ]
  },
  {
   "cell_type": "code",
   "execution_count": 23,
   "id": "cea6e784",
   "metadata": {},
   "outputs": [],
   "source": [
    "data.dropna(axis=0, inplace=True)"
   ]
  },
  {
   "cell_type": "code",
   "execution_count": 29,
   "id": "c11143aa",
   "metadata": {},
   "outputs": [],
   "source": [
    "X = data[['5', '10', '15', '20', '25', '30', '35']]\n",
    "y = data['40'] + data['Finish']"
   ]
  },
  {
   "cell_type": "code",
   "execution_count": 33,
   "id": "f19bd53b",
   "metadata": {},
   "outputs": [],
   "source": [
    "model = LinearRegression().fit(X, y)"
   ]
  },
  {
   "cell_type": "code",
   "execution_count": 49,
   "id": "2e8be5ad",
   "metadata": {},
   "outputs": [],
   "source": [
    "def pred_linear_reg(splits, model=model):\n",
    "    splits = [time_to_seconds(x) for x in splits]\n",
    "    pred = model.predict([splits])[0]\n",
    "    return seconds_to_time(pred)"
   ]
  },
  {
   "cell_type": "code",
   "execution_count": 56,
   "id": "c268ddbb",
   "metadata": {},
   "outputs": [],
   "source": [
    "def total_time_from_splits(splits, model=model):\n",
    "    splits = [time_to_seconds(x) for x in splits]\n",
    "    pred = model.predict([splits])[0]\n",
    "    total_time = sum(splits) + pred\n",
    "    return seconds_to_time(total_time)"
   ]
  },
  {
   "cell_type": "code",
   "execution_count": 62,
   "id": "7ac3c119",
   "metadata": {},
   "outputs": [
    {
     "data": {
      "text/plain": [
       "'23:10'"
      ]
     },
     "execution_count": 62,
     "metadata": {},
     "output_type": "execute_result"
    }
   ],
   "source": [
    "pred_linear_reg(['14:10', '14:10', '14:14', '14:13', '14:12', '14:12', '14:12'])"
   ]
  },
  {
   "cell_type": "code",
   "execution_count": 61,
   "id": "fc27a0b2",
   "metadata": {},
   "outputs": [
    {
     "data": {
      "text/plain": [
       "'02:02:33'"
      ]
     },
     "execution_count": 61,
     "metadata": {},
     "output_type": "execute_result"
    }
   ],
   "source": [
    "total_time_from_splits(['14:10', '14:10', '14:14', '14:13', '14:12', '14:12', '14:12'])"
   ]
  }
 ],
 "metadata": {
  "kernelspec": {
   "display_name": "Python 3 (ipykernel)",
   "language": "python",
   "name": "python3"
  },
  "language_info": {
   "codemirror_mode": {
    "name": "ipython",
    "version": 3
   },
   "file_extension": ".py",
   "mimetype": "text/x-python",
   "name": "python",
   "nbconvert_exporter": "python",
   "pygments_lexer": "ipython3",
   "version": "3.7.6"
  }
 },
 "nbformat": 4,
 "nbformat_minor": 5
}
