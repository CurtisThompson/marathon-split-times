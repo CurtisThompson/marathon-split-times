{
 "cells": [
  {
   "cell_type": "code",
   "execution_count": 1,
   "id": "4b02360f",
   "metadata": {},
   "outputs": [],
   "source": [
    "import numpy as np\n",
    "import pandas as pd\n",
    "from sklearn.linear_model import LinearRegression\n",
    "import pickle"
   ]
  },
  {
   "cell_type": "markdown",
   "id": "69ffb69d",
   "metadata": {},
   "source": [
    "# Import Data and Prepare"
   ]
  },
  {
   "cell_type": "code",
   "execution_count": 2,
   "id": "c649cdf3",
   "metadata": {},
   "outputs": [],
   "source": [
    "data_files = ['../data/london_marathon_2019_'+str(x)+'.csv' for x in range(1, 7)]\n",
    "dfs = [pd.read_csv(f) for f in data_files]\n",
    "data = pd.concat(dfs)"
   ]
  },
  {
   "cell_type": "code",
   "execution_count": 3,
   "id": "974fc0c0",
   "metadata": {},
   "outputs": [],
   "source": [
    "def time_to_seconds(time):\n",
    "    if ':' in time:\n",
    "        time_parts = time.split(':')\n",
    "        seconds = int(time_parts[-1]) + (int(time_parts[-2]) * 60)\n",
    "        if len(time_parts) > 2:\n",
    "            seconds += int(time_parts[-3]) * 3600\n",
    "        return seconds\n",
    "    else:\n",
    "        return np.nan"
   ]
  },
  {
   "cell_type": "code",
   "execution_count": 4,
   "id": "18c5105e",
   "metadata": {},
   "outputs": [],
   "source": [
    "def seconds_to_time(time):\n",
    "    hours = time // 3600\n",
    "    time -= hours*3600\n",
    "    hours = str(int(hours))\n",
    "    if len(hours) < 2:\n",
    "        hours = '0' + hours\n",
    "    \n",
    "    minutes = time // 60\n",
    "    time -= minutes*60\n",
    "    minutes = str(int(minutes))\n",
    "    if len(minutes) < 2:\n",
    "        minutes = '0' + minutes\n",
    "        \n",
    "    seconds = str(int(time))\n",
    "    if len(seconds) < 2:\n",
    "        seconds = '0' + seconds\n",
    "    \n",
    "    if hours != '00':\n",
    "        return hours + ':' + minutes + ':' + seconds\n",
    "    return minutes + ':' + seconds"
   ]
  },
  {
   "cell_type": "code",
   "execution_count": 5,
   "id": "8786d599",
   "metadata": {},
   "outputs": [],
   "source": [
    "for column in data.columns:\n",
    "    data[column] = data[column].apply(lambda x: time_to_seconds(x))"
   ]
  },
  {
   "cell_type": "markdown",
   "id": "703c84fc",
   "metadata": {},
   "source": [
    "## Remove Incomplete Rows"
   ]
  },
  {
   "cell_type": "code",
   "execution_count": 6,
   "id": "cea6e784",
   "metadata": {},
   "outputs": [],
   "source": [
    "data.dropna(axis=0, inplace=True)"
   ]
  },
  {
   "cell_type": "markdown",
   "id": "631f68ab",
   "metadata": {},
   "source": [
    "## Split Into X and Y"
   ]
  },
  {
   "cell_type": "code",
   "execution_count": 7,
   "id": "c11143aa",
   "metadata": {},
   "outputs": [],
   "source": [
    "X = data[['5', '10', '15', '20', '25', '30', '35']]\n",
    "y = data['40'] + data['Finish']"
   ]
  },
  {
   "cell_type": "markdown",
   "id": "6b3c1b81",
   "metadata": {},
   "source": [
    "# Build Model"
   ]
  },
  {
   "cell_type": "code",
   "execution_count": 8,
   "id": "f19bd53b",
   "metadata": {},
   "outputs": [],
   "source": [
    "model = LinearRegression().fit(X, y)"
   ]
  },
  {
   "cell_type": "markdown",
   "id": "fa01cf46",
   "metadata": {},
   "source": [
    "## Predictions"
   ]
  },
  {
   "cell_type": "code",
   "execution_count": 9,
   "id": "2e8be5ad",
   "metadata": {},
   "outputs": [],
   "source": [
    "def pred_linear_reg(splits, model=model):\n",
    "    splits = [time_to_seconds(x) for x in splits]\n",
    "    pred = model.predict([splits])[0]\n",
    "    return seconds_to_time(pred)"
   ]
  },
  {
   "cell_type": "code",
   "execution_count": 10,
   "id": "c268ddbb",
   "metadata": {},
   "outputs": [],
   "source": [
    "def total_time_from_splits(splits, model=model):\n",
    "    splits = [time_to_seconds(x) for x in splits]\n",
    "    pred = model.predict([splits])[0]\n",
    "    total_time = sum(splits) + pred\n",
    "    return seconds_to_time(total_time)"
   ]
  },
  {
   "cell_type": "code",
   "execution_count": 11,
   "id": "7ac3c119",
   "metadata": {},
   "outputs": [
    {
     "data": {
      "text/plain": [
       "'23:10'"
      ]
     },
     "execution_count": 11,
     "metadata": {},
     "output_type": "execute_result"
    }
   ],
   "source": [
    "pred_linear_reg(['14:10', '14:10', '14:14', '14:13', '14:12', '14:12', '14:12'])"
   ]
  },
  {
   "cell_type": "code",
   "execution_count": 12,
   "id": "fc27a0b2",
   "metadata": {},
   "outputs": [
    {
     "data": {
      "text/plain": [
       "'02:02:33'"
      ]
     },
     "execution_count": 12,
     "metadata": {},
     "output_type": "execute_result"
    }
   ],
   "source": [
    "total_time_from_splits(['14:10', '14:10', '14:14', '14:13', '14:12', '14:12', '14:12'])"
   ]
  },
  {
   "cell_type": "markdown",
   "id": "0ebff190",
   "metadata": {},
   "source": [
    "## Output To Pickle File"
   ]
  },
  {
   "cell_type": "code",
   "execution_count": 13,
   "id": "dd8ba269",
   "metadata": {},
   "outputs": [],
   "source": [
    "with open('../models/linear_reg_test.pkl', 'wb') as f:\n",
    "    pickle.dump(model, f)"
   ]
  },
  {
   "cell_type": "markdown",
   "id": "228400a2",
   "metadata": {},
   "source": [
    "# Load Model and Make Predictions"
   ]
  },
  {
   "cell_type": "code",
   "execution_count": 14,
   "id": "62298ef2",
   "metadata": {},
   "outputs": [],
   "source": [
    "with open('../models/linear_reg_test.pkl', 'rb') as f:\n",
    "    loaded_model = pickle.load(f)"
   ]
  },
  {
   "cell_type": "code",
   "execution_count": 26,
   "id": "29aaa163",
   "metadata": {},
   "outputs": [],
   "source": [
    "my_splits = ['28:02', '54:34', '01:20:58', '01:48:19', '01:54:12', '02:18:42', '02:54:03', '03:31:06', '04:06:54', '04:20:24']\n",
    "my_splits_short = my_splits[0:4] + my_splits[5:]\n",
    "\n",
    "def total_splits_to_split(splits):\n",
    "    seconds = [time_to_seconds(x) - time_to_seconds(splits[i-1]) if i > 0 else time_to_seconds(x) for i, x in enumerate(splits)]\n",
    "    splits = [seconds_to_time(x) for x in seconds]\n",
    "    return splits\n",
    "\n",
    "my_splits_split = total_splits_to_split(my_splits_short)"
   ]
  },
  {
   "cell_type": "code",
   "execution_count": 27,
   "id": "41c56fac",
   "metadata": {},
   "outputs": [
    {
     "data": {
      "text/plain": [
       "'04:23:25'"
      ]
     },
     "execution_count": 27,
     "metadata": {},
     "output_type": "execute_result"
    }
   ],
   "source": [
    "total_time_from_splits(my_splits_split[:7], model=loaded_model)"
   ]
  }
 ],
 "metadata": {
  "kernelspec": {
   "display_name": "Python 3 (ipykernel)",
   "language": "python",
   "name": "python3"
  },
  "language_info": {
   "codemirror_mode": {
    "name": "ipython",
    "version": 3
   },
   "file_extension": ".py",
   "mimetype": "text/x-python",
   "name": "python",
   "nbconvert_exporter": "python",
   "pygments_lexer": "ipython3",
   "version": "3.7.6"
  }
 },
 "nbformat": 4,
 "nbformat_minor": 5
}
