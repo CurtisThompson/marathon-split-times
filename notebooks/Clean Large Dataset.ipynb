{
 "cells": [
  {
   "cell_type": "code",
   "execution_count": 1,
   "id": "f23488d3",
   "metadata": {},
   "outputs": [],
   "source": [
    "import numpy as np\n",
    "import pandas as pd"
   ]
  },
  {
   "cell_type": "code",
   "execution_count": 2,
   "id": "9a086688",
   "metadata": {},
   "outputs": [],
   "source": [
    "columns=['5', '10', '15', '20', 'Half', '25', '30', '35', '40', 'Finish']"
   ]
  },
  {
   "cell_type": "code",
   "execution_count": 57,
   "id": "31fb972c",
   "metadata": {},
   "outputs": [],
   "source": [
    "data = pd.read_csv('../data/marathon_results_2015.csv')\n",
    "data = data[['5K', '10K', '15K', '20K', 'Half', '25K', '30K', '35K', '40K', 'Official Time']]\n",
    "data.columns = columns"
   ]
  },
  {
   "cell_type": "code",
   "execution_count": 58,
   "id": "e256114a",
   "metadata": {},
   "outputs": [],
   "source": [
    "def time_to_seconds(time):\n",
    "    if ':' in time:\n",
    "        time_parts = time.split(':')\n",
    "        seconds = int(time_parts[-1]) + (int(time_parts[-2]) * 60)\n",
    "        if len(time_parts) > 2:\n",
    "            seconds += int(time_parts[-3]) * 3600\n",
    "        return int(seconds)\n",
    "    else:\n",
    "        return np.nan"
   ]
  },
  {
   "cell_type": "code",
   "execution_count": 59,
   "id": "7e918a8f",
   "metadata": {},
   "outputs": [],
   "source": [
    "def seconds_to_time(time):\n",
    "    hours = time // 3600\n",
    "    time -= hours*3600\n",
    "    hours = str(int(hours))\n",
    "    if len(hours) < 2:\n",
    "        hours = '0' + hours\n",
    "    \n",
    "    minutes = time // 60\n",
    "    time -= minutes*60\n",
    "    minutes = str(int(minutes))\n",
    "    if len(minutes) < 2:\n",
    "        minutes = '0' + minutes\n",
    "        \n",
    "    seconds = str(int(time))\n",
    "    if len(seconds) < 2:\n",
    "        seconds = '0' + seconds\n",
    "    \n",
    "    if hours != '00':\n",
    "        return hours + ':' + minutes + ':' + seconds\n",
    "    return minutes + ':' + seconds"
   ]
  },
  {
   "cell_type": "code",
   "execution_count": 60,
   "id": "b4d59357",
   "metadata": {},
   "outputs": [],
   "source": [
    "for col in columns:\n",
    "    data[col] = data[col].apply(lambda x: time_to_seconds(x))"
   ]
  },
  {
   "cell_type": "code",
   "execution_count": 61,
   "id": "cc8ce45b",
   "metadata": {},
   "outputs": [],
   "source": [
    "data.dropna(inplace=True)"
   ]
  },
  {
   "cell_type": "code",
   "execution_count": 62,
   "id": "178dce06",
   "metadata": {},
   "outputs": [],
   "source": [
    "data['Finish'] = data['Finish'] - data['40']\n",
    "data['40'] = data['40'] - data['35']\n",
    "data['35'] = data['35'] - data['30']\n",
    "data['30'] = data['30'] - data['25']\n",
    "data['25'] = data['25'] - data['20']\n",
    "data['20'] = data['20'] - data['15']\n",
    "data['15'] = data['15'] - data['10']\n",
    "data['10'] = data['10'] - data['5']"
   ]
  },
  {
   "cell_type": "code",
   "execution_count": 63,
   "id": "a9572244",
   "metadata": {},
   "outputs": [],
   "source": [
    "def try_sec(x):\n",
    "    try:\n",
    "        return seconds_to_time(x)\n",
    "    except:\n",
    "        return '-'"
   ]
  },
  {
   "cell_type": "code",
   "execution_count": 64,
   "id": "b756dcdb",
   "metadata": {},
   "outputs": [],
   "source": [
    "for col in columns:\n",
    "    data[col] = data[col].apply(lambda x: try_sec(x))"
   ]
  },
  {
   "cell_type": "code",
   "execution_count": 65,
   "id": "0d97ec41",
   "metadata": {},
   "outputs": [],
   "source": [
    "data.to_csv('../data/boston_marathon_2015.csv', index=False)"
   ]
  }
 ],
 "metadata": {
  "kernelspec": {
   "display_name": "Python 3 (ipykernel)",
   "language": "python",
   "name": "python3"
  },
  "language_info": {
   "codemirror_mode": {
    "name": "ipython",
    "version": 3
   },
   "file_extension": ".py",
   "mimetype": "text/x-python",
   "name": "python",
   "nbconvert_exporter": "python",
   "pygments_lexer": "ipython3",
   "version": "3.7.6"
  }
 },
 "nbformat": 4,
 "nbformat_minor": 5
}
